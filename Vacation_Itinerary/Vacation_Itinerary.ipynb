{
 "cells": [
  {
   "cell_type": "markdown",
   "metadata": {},
   "source": [
    "## Deliverable 3. Create a Travel Itinerary Map."
   ]
  },
  {
   "cell_type": "code",
   "execution_count": 1,
   "metadata": {},
   "outputs": [],
   "source": [
    "import sys\n",
    "sys.path.append(\"..\")\n",
    "# Dependencies and Setup\n",
    "import pandas as pd\n",
    "import requests\n",
    "import gmaps\n",
    "\n",
    "# Import API key\n",
    "from config import g_key\n",
    "\n",
    "# Configure gmaps\n",
    "gmaps.configure(api_key=g_key)"
   ]
  },
  {
   "cell_type": "code",
   "execution_count": 119,
   "metadata": {},
   "outputs": [
    {
     "output_type": "execute_result",
     "data": {
      "text/plain": [
       "     City_ID                  City Country  Max Temp  \\\n",
       "133      490                 Kathu      TH     79.00   \n",
       "134      494             Manokwari      ID     81.10   \n",
       "135      496                  Male      MV     84.20   \n",
       "136      500             Tierralta      CO     78.35   \n",
       "137      504          Port Hedland      AU     80.60   \n",
       "138      510           Rockhampton      AU     77.00   \n",
       "139      513               Atambua      ID     84.65   \n",
       "140      518              Waingapu      ID     82.81   \n",
       "141      529                Forbes      AU     79.00   \n",
       "142      530             Sinnamary      GF     79.86   \n",
       "143      532            Alice Town      BS     81.75   \n",
       "144      533                Lodwar      KE     85.24   \n",
       "145      537               Sawtell      AU     77.00   \n",
       "146      538               Jackson      US     81.00   \n",
       "147      539              Koutiala      ML     81.82   \n",
       "148      542               Siguiri      GN     76.08   \n",
       "149      544           Panalingaan      PH     79.36   \n",
       "150      548           Keti Bandar      PK     83.86   \n",
       "151      549                 Santa      PH     81.12   \n",
       "152      552            The Valley      AI     82.40   \n",
       "153      554             Namatanai      PG     85.08   \n",
       "154      559                   Edd      ER     83.55   \n",
       "155      560   Santiago Del Estero      AR     82.67   \n",
       "156      561              Damaturu      NG     84.15   \n",
       "157      568                Katobu      ID     84.40   \n",
       "158      570                 Limon      CR     81.73   \n",
       "159      572                 Manga      BF     81.86   \n",
       "160      577               Kismayo      SO     78.67   \n",
       "161      580              Mucurapo      TT     82.40   \n",
       "162      581           Bodden Town      KY     84.00   \n",
       "163      582                Omboue      GA     75.40   \n",
       "164      584               Kodinar      IN     81.55   \n",
       "165      589                Viedma      AR     77.00   \n",
       "166      592              San Juan      AR     76.21   \n",
       "167      601         Newport Beach      US     87.01   \n",
       "168      609               Bairiki      KI     86.00   \n",
       "169      611              Galesong      ID     78.80   \n",
       "170      613                Acarau      BR     78.37   \n",
       "171      618                  Auki      SB     86.54   \n",
       "172      623              Ahuimanu      US     84.20   \n",
       "173      624         Alice Springs      AU     89.60   \n",
       "174      627    San Cosme Y Damian      PY     82.40   \n",
       "175      628             Road Town      VG     78.80   \n",
       "176      632               Labuhan      ID     80.26   \n",
       "177      635              Cabedelo      BR     77.00   \n",
       "178      637                Pauini      BR     76.75   \n",
       "179      641              Meulaboh      ID     76.80   \n",
       "180      643                 Buala      SB     84.43   \n",
       "181      644                Olinda      BR     80.60   \n",
       "182      645               Oistins      BB     80.60   \n",
       "183      648               Mataram      ID     80.60   \n",
       "184      651       Charters Towers      AU     77.81   \n",
       "185      653               Inirida      CO     76.53   \n",
       "186      657               Mandera      KE     79.23   \n",
       "187      658               Del Rio      US     80.60   \n",
       "188      659           Kloulklubed      PW     84.20   \n",
       "189      662              Qui Nhon      VN     77.18   \n",
       "190      663        Ciudad Bolivar      VE     84.22   \n",
       "191      664  Nova Olinda Do Norte      BR     81.46   \n",
       "192      666             Katherine      AU     86.00   \n",
       "\n",
       "              Current Description    Lat     Lng  \\\n",
       "133          heavy intensity rain   7.92   98.33   \n",
       "134               overcast clouds  -0.87  134.08   \n",
       "135                 broken clouds   4.17   73.51   \n",
       "136                 moderate rain   8.17  -76.06   \n",
       "137                     clear sky -20.32  118.57   \n",
       "138                 broken clouds -23.38  150.50   \n",
       "139                     clear sky  -9.11  124.89   \n",
       "140                 broken clouds  -9.66  120.26   \n",
       "141               overcast clouds -33.38  148.02   \n",
       "142                    few clouds   5.38  -52.95   \n",
       "143          heavy intensity rain  25.72  -79.30   \n",
       "144              scattered clouds   3.12   35.60   \n",
       "145              scattered clouds -30.38  153.10   \n",
       "146                     clear sky  42.42 -122.83   \n",
       "147              scattered clouds  12.39   -5.46   \n",
       "148               overcast clouds  11.67   -9.50   \n",
       "149          heavy intensity rain   8.78  117.42   \n",
       "150                    few clouds  24.14   67.45   \n",
       "151                    few clouds  17.49  120.43   \n",
       "152              scattered clouds  18.22  -63.06   \n",
       "153               overcast clouds  -3.67  152.43   \n",
       "154                     clear sky  13.93   41.69   \n",
       "155               overcast clouds -27.80  -64.26   \n",
       "156                 broken clouds  11.75   11.96   \n",
       "157               overcast clouds  -4.94  122.53   \n",
       "158                     clear sky  10.00  -83.03   \n",
       "159                 broken clouds  11.66   -1.07   \n",
       "160                     clear sky  -0.36   42.55   \n",
       "161                    few clouds  10.67  -61.53   \n",
       "162                    few clouds  19.28  -81.25   \n",
       "163               overcast clouds  -1.57    9.26   \n",
       "164               overcast clouds  20.79   70.70   \n",
       "165                     clear sky -40.81  -63.00   \n",
       "166              scattered clouds -31.54  -68.54   \n",
       "167                    few clouds  33.62 -117.93   \n",
       "168                    few clouds   1.33  172.98   \n",
       "169                    few clouds  -5.32  119.37   \n",
       "170                     clear sky  -2.89  -40.12   \n",
       "171                    light rain  -8.77  160.70   \n",
       "172               overcast clouds  21.44 -157.84   \n",
       "173                     clear sky -23.70  133.88   \n",
       "174              scattered clouds -27.32  -56.35   \n",
       "175  thunderstorm with light rain  18.42  -64.62   \n",
       "176               overcast clouds  -6.88  112.21   \n",
       "177                    few clouds  -6.98  -34.83   \n",
       "178          heavy intensity rain  -7.71  -66.98   \n",
       "179               overcast clouds   4.14   96.13   \n",
       "180                    light rain  -8.14  159.59   \n",
       "181              scattered clouds  -8.01  -34.86   \n",
       "182                   shower rain  13.07  -59.53   \n",
       "183              scattered clouds  -8.58  116.12   \n",
       "184                     clear sky -20.10  146.27   \n",
       "185                 broken clouds   3.87  -67.92   \n",
       "186                     clear sky   3.94   41.87   \n",
       "187                     clear sky  29.36 -100.90   \n",
       "188                 broken clouds   7.04  134.26   \n",
       "189                    light rain  13.77  109.23   \n",
       "190                 broken clouds   8.12  -63.55   \n",
       "191              scattered clouds  -3.89  -59.09   \n",
       "192              scattered clouds -14.47  132.27   \n",
       "\n",
       "                                         Hotel Name  \n",
       "133                           Novotel Phuket Resort  \n",
       "134                        Swiss Belhotel Manokwari  \n",
       "135                           Hotel Octave Maldives  \n",
       "136                                      montevideo  \n",
       "137                             The Esplanade Hotel  \n",
       "138                             Mercure Rockhampton  \n",
       "139           Pondok Pesantren Al Muhajirin Atambua  \n",
       "140                              Pondok Wisata Elim  \n",
       "141                               Lake Forbes Motel  \n",
       "142                  ALETHEIA Appartement Sinnamary  \n",
       "143            Bimini Big Game Club Resort & Marina  \n",
       "144                                   Turkwel Lodge  \n",
       "145                     Boambee Waters Caravan Park  \n",
       "146                        Agate Village Apartments  \n",
       "147                     Hotel Campement Poule Verte  \n",
       "148                                             NaN  \n",
       "149                                             NaN  \n",
       "150                          Haji laloo memon house  \n",
       "151                                     The Mansion  \n",
       "152                    CeBlue Villas & Beach Resort  \n",
       "153                                 Namatanai Hotel  \n",
       "154                                             NaN  \n",
       "155                                    Hotel Urbano  \n",
       "156                        Summit Conference Centre  \n",
       "157                                   La Ode Husein  \n",
       "158                              Hotel Playa Bonita  \n",
       "159                                Auberge Somkieta  \n",
       "160                                      Agan-Hotel  \n",
       "161             Courtyard by Marriott Port of Spain  \n",
       "162                                    Will T Place  \n",
       "163                                     Hotel Olako  \n",
       "164                     Hotel Krishna Park, Kodinar  \n",
       "165                                   Hotel Cristal  \n",
       "166                                Hotel Provincial  \n",
       "167               Holiday Inn Express Newport Beach  \n",
       "168                           Tarawa Boutique Hotel  \n",
       "169                                   Sapriadi Appy  \n",
       "170                                castelo pizzaria  \n",
       "171                                      Auki Motel  \n",
       "172                             Paradise Bay Resort  \n",
       "173                      Desert Palms Alice Springs  \n",
       "174                        Posada Turística Aguapey  \n",
       "175  ZINGARA 76ft Catamaran, full crew-all included  \n",
       "176                                    bador sepret  \n",
       "177                               Lua Mansa Pousada  \n",
       "178                                 Casa do Kiwliks  \n",
       "179                                       Kost Pria  \n",
       "180                            Maringe Lagoon Lodge  \n",
       "181                                    Hotel 5 Sóis  \n",
       "182                           Butterfly Beach Hotel  \n",
       "183                           Hotel Santika Mataram  \n",
       "184                      Cattleman's Rest Motor Inn  \n",
       "185                 Fuente del Guania Hotel de Lujo  \n",
       "186                       Kornesh Hotel and Lodging  \n",
       "187            Holiday Inn Express & Suites del Rio  \n",
       "188                         Storyboard Beach Resort  \n",
       "189       Khách sạn Hải Âu Quy Nhơn - Seagull Hotel  \n",
       "190                                       Hotel Edi  \n",
       "191                        Nova Olinda Palace Hotel  \n",
       "192                                 Pine Tree Motel  "
      ],
      "text/html": "<div>\n<style scoped>\n    .dataframe tbody tr th:only-of-type {\n        vertical-align: middle;\n    }\n\n    .dataframe tbody tr th {\n        vertical-align: top;\n    }\n\n    .dataframe thead th {\n        text-align: right;\n    }\n</style>\n<table border=\"1\" class=\"dataframe\">\n  <thead>\n    <tr style=\"text-align: right;\">\n      <th></th>\n      <th>City_ID</th>\n      <th>City</th>\n      <th>Country</th>\n      <th>Max Temp</th>\n      <th>Current Description</th>\n      <th>Lat</th>\n      <th>Lng</th>\n      <th>Hotel Name</th>\n    </tr>\n  </thead>\n  <tbody>\n    <tr>\n      <th>133</th>\n      <td>490</td>\n      <td>Kathu</td>\n      <td>TH</td>\n      <td>79.00</td>\n      <td>heavy intensity rain</td>\n      <td>7.92</td>\n      <td>98.33</td>\n      <td>Novotel Phuket Resort</td>\n    </tr>\n    <tr>\n      <th>134</th>\n      <td>494</td>\n      <td>Manokwari</td>\n      <td>ID</td>\n      <td>81.10</td>\n      <td>overcast clouds</td>\n      <td>-0.87</td>\n      <td>134.08</td>\n      <td>Swiss Belhotel Manokwari</td>\n    </tr>\n    <tr>\n      <th>135</th>\n      <td>496</td>\n      <td>Male</td>\n      <td>MV</td>\n      <td>84.20</td>\n      <td>broken clouds</td>\n      <td>4.17</td>\n      <td>73.51</td>\n      <td>Hotel Octave Maldives</td>\n    </tr>\n    <tr>\n      <th>136</th>\n      <td>500</td>\n      <td>Tierralta</td>\n      <td>CO</td>\n      <td>78.35</td>\n      <td>moderate rain</td>\n      <td>8.17</td>\n      <td>-76.06</td>\n      <td>montevideo</td>\n    </tr>\n    <tr>\n      <th>137</th>\n      <td>504</td>\n      <td>Port Hedland</td>\n      <td>AU</td>\n      <td>80.60</td>\n      <td>clear sky</td>\n      <td>-20.32</td>\n      <td>118.57</td>\n      <td>The Esplanade Hotel</td>\n    </tr>\n    <tr>\n      <th>138</th>\n      <td>510</td>\n      <td>Rockhampton</td>\n      <td>AU</td>\n      <td>77.00</td>\n      <td>broken clouds</td>\n      <td>-23.38</td>\n      <td>150.50</td>\n      <td>Mercure Rockhampton</td>\n    </tr>\n    <tr>\n      <th>139</th>\n      <td>513</td>\n      <td>Atambua</td>\n      <td>ID</td>\n      <td>84.65</td>\n      <td>clear sky</td>\n      <td>-9.11</td>\n      <td>124.89</td>\n      <td>Pondok Pesantren Al Muhajirin Atambua</td>\n    </tr>\n    <tr>\n      <th>140</th>\n      <td>518</td>\n      <td>Waingapu</td>\n      <td>ID</td>\n      <td>82.81</td>\n      <td>broken clouds</td>\n      <td>-9.66</td>\n      <td>120.26</td>\n      <td>Pondok Wisata Elim</td>\n    </tr>\n    <tr>\n      <th>141</th>\n      <td>529</td>\n      <td>Forbes</td>\n      <td>AU</td>\n      <td>79.00</td>\n      <td>overcast clouds</td>\n      <td>-33.38</td>\n      <td>148.02</td>\n      <td>Lake Forbes Motel</td>\n    </tr>\n    <tr>\n      <th>142</th>\n      <td>530</td>\n      <td>Sinnamary</td>\n      <td>GF</td>\n      <td>79.86</td>\n      <td>few clouds</td>\n      <td>5.38</td>\n      <td>-52.95</td>\n      <td>ALETHEIA Appartement Sinnamary</td>\n    </tr>\n    <tr>\n      <th>143</th>\n      <td>532</td>\n      <td>Alice Town</td>\n      <td>BS</td>\n      <td>81.75</td>\n      <td>heavy intensity rain</td>\n      <td>25.72</td>\n      <td>-79.30</td>\n      <td>Bimini Big Game Club Resort &amp; Marina</td>\n    </tr>\n    <tr>\n      <th>144</th>\n      <td>533</td>\n      <td>Lodwar</td>\n      <td>KE</td>\n      <td>85.24</td>\n      <td>scattered clouds</td>\n      <td>3.12</td>\n      <td>35.60</td>\n      <td>Turkwel Lodge</td>\n    </tr>\n    <tr>\n      <th>145</th>\n      <td>537</td>\n      <td>Sawtell</td>\n      <td>AU</td>\n      <td>77.00</td>\n      <td>scattered clouds</td>\n      <td>-30.38</td>\n      <td>153.10</td>\n      <td>Boambee Waters Caravan Park</td>\n    </tr>\n    <tr>\n      <th>146</th>\n      <td>538</td>\n      <td>Jackson</td>\n      <td>US</td>\n      <td>81.00</td>\n      <td>clear sky</td>\n      <td>42.42</td>\n      <td>-122.83</td>\n      <td>Agate Village Apartments</td>\n    </tr>\n    <tr>\n      <th>147</th>\n      <td>539</td>\n      <td>Koutiala</td>\n      <td>ML</td>\n      <td>81.82</td>\n      <td>scattered clouds</td>\n      <td>12.39</td>\n      <td>-5.46</td>\n      <td>Hotel Campement Poule Verte</td>\n    </tr>\n    <tr>\n      <th>148</th>\n      <td>542</td>\n      <td>Siguiri</td>\n      <td>GN</td>\n      <td>76.08</td>\n      <td>overcast clouds</td>\n      <td>11.67</td>\n      <td>-9.50</td>\n      <td>NaN</td>\n    </tr>\n    <tr>\n      <th>149</th>\n      <td>544</td>\n      <td>Panalingaan</td>\n      <td>PH</td>\n      <td>79.36</td>\n      <td>heavy intensity rain</td>\n      <td>8.78</td>\n      <td>117.42</td>\n      <td>NaN</td>\n    </tr>\n    <tr>\n      <th>150</th>\n      <td>548</td>\n      <td>Keti Bandar</td>\n      <td>PK</td>\n      <td>83.86</td>\n      <td>few clouds</td>\n      <td>24.14</td>\n      <td>67.45</td>\n      <td>Haji laloo memon house</td>\n    </tr>\n    <tr>\n      <th>151</th>\n      <td>549</td>\n      <td>Santa</td>\n      <td>PH</td>\n      <td>81.12</td>\n      <td>few clouds</td>\n      <td>17.49</td>\n      <td>120.43</td>\n      <td>The Mansion</td>\n    </tr>\n    <tr>\n      <th>152</th>\n      <td>552</td>\n      <td>The Valley</td>\n      <td>AI</td>\n      <td>82.40</td>\n      <td>scattered clouds</td>\n      <td>18.22</td>\n      <td>-63.06</td>\n      <td>CeBlue Villas &amp; Beach Resort</td>\n    </tr>\n    <tr>\n      <th>153</th>\n      <td>554</td>\n      <td>Namatanai</td>\n      <td>PG</td>\n      <td>85.08</td>\n      <td>overcast clouds</td>\n      <td>-3.67</td>\n      <td>152.43</td>\n      <td>Namatanai Hotel</td>\n    </tr>\n    <tr>\n      <th>154</th>\n      <td>559</td>\n      <td>Edd</td>\n      <td>ER</td>\n      <td>83.55</td>\n      <td>clear sky</td>\n      <td>13.93</td>\n      <td>41.69</td>\n      <td>NaN</td>\n    </tr>\n    <tr>\n      <th>155</th>\n      <td>560</td>\n      <td>Santiago Del Estero</td>\n      <td>AR</td>\n      <td>82.67</td>\n      <td>overcast clouds</td>\n      <td>-27.80</td>\n      <td>-64.26</td>\n      <td>Hotel Urbano</td>\n    </tr>\n    <tr>\n      <th>156</th>\n      <td>561</td>\n      <td>Damaturu</td>\n      <td>NG</td>\n      <td>84.15</td>\n      <td>broken clouds</td>\n      <td>11.75</td>\n      <td>11.96</td>\n      <td>Summit Conference Centre</td>\n    </tr>\n    <tr>\n      <th>157</th>\n      <td>568</td>\n      <td>Katobu</td>\n      <td>ID</td>\n      <td>84.40</td>\n      <td>overcast clouds</td>\n      <td>-4.94</td>\n      <td>122.53</td>\n      <td>La Ode Husein</td>\n    </tr>\n    <tr>\n      <th>158</th>\n      <td>570</td>\n      <td>Limon</td>\n      <td>CR</td>\n      <td>81.73</td>\n      <td>clear sky</td>\n      <td>10.00</td>\n      <td>-83.03</td>\n      <td>Hotel Playa Bonita</td>\n    </tr>\n    <tr>\n      <th>159</th>\n      <td>572</td>\n      <td>Manga</td>\n      <td>BF</td>\n      <td>81.86</td>\n      <td>broken clouds</td>\n      <td>11.66</td>\n      <td>-1.07</td>\n      <td>Auberge Somkieta</td>\n    </tr>\n    <tr>\n      <th>160</th>\n      <td>577</td>\n      <td>Kismayo</td>\n      <td>SO</td>\n      <td>78.67</td>\n      <td>clear sky</td>\n      <td>-0.36</td>\n      <td>42.55</td>\n      <td>Agan-Hotel</td>\n    </tr>\n    <tr>\n      <th>161</th>\n      <td>580</td>\n      <td>Mucurapo</td>\n      <td>TT</td>\n      <td>82.40</td>\n      <td>few clouds</td>\n      <td>10.67</td>\n      <td>-61.53</td>\n      <td>Courtyard by Marriott Port of Spain</td>\n    </tr>\n    <tr>\n      <th>162</th>\n      <td>581</td>\n      <td>Bodden Town</td>\n      <td>KY</td>\n      <td>84.00</td>\n      <td>few clouds</td>\n      <td>19.28</td>\n      <td>-81.25</td>\n      <td>Will T Place</td>\n    </tr>\n    <tr>\n      <th>163</th>\n      <td>582</td>\n      <td>Omboue</td>\n      <td>GA</td>\n      <td>75.40</td>\n      <td>overcast clouds</td>\n      <td>-1.57</td>\n      <td>9.26</td>\n      <td>Hotel Olako</td>\n    </tr>\n    <tr>\n      <th>164</th>\n      <td>584</td>\n      <td>Kodinar</td>\n      <td>IN</td>\n      <td>81.55</td>\n      <td>overcast clouds</td>\n      <td>20.79</td>\n      <td>70.70</td>\n      <td>Hotel Krishna Park, Kodinar</td>\n    </tr>\n    <tr>\n      <th>165</th>\n      <td>589</td>\n      <td>Viedma</td>\n      <td>AR</td>\n      <td>77.00</td>\n      <td>clear sky</td>\n      <td>-40.81</td>\n      <td>-63.00</td>\n      <td>Hotel Cristal</td>\n    </tr>\n    <tr>\n      <th>166</th>\n      <td>592</td>\n      <td>San Juan</td>\n      <td>AR</td>\n      <td>76.21</td>\n      <td>scattered clouds</td>\n      <td>-31.54</td>\n      <td>-68.54</td>\n      <td>Hotel Provincial</td>\n    </tr>\n    <tr>\n      <th>167</th>\n      <td>601</td>\n      <td>Newport Beach</td>\n      <td>US</td>\n      <td>87.01</td>\n      <td>few clouds</td>\n      <td>33.62</td>\n      <td>-117.93</td>\n      <td>Holiday Inn Express Newport Beach</td>\n    </tr>\n    <tr>\n      <th>168</th>\n      <td>609</td>\n      <td>Bairiki</td>\n      <td>KI</td>\n      <td>86.00</td>\n      <td>few clouds</td>\n      <td>1.33</td>\n      <td>172.98</td>\n      <td>Tarawa Boutique Hotel</td>\n    </tr>\n    <tr>\n      <th>169</th>\n      <td>611</td>\n      <td>Galesong</td>\n      <td>ID</td>\n      <td>78.80</td>\n      <td>few clouds</td>\n      <td>-5.32</td>\n      <td>119.37</td>\n      <td>Sapriadi Appy</td>\n    </tr>\n    <tr>\n      <th>170</th>\n      <td>613</td>\n      <td>Acarau</td>\n      <td>BR</td>\n      <td>78.37</td>\n      <td>clear sky</td>\n      <td>-2.89</td>\n      <td>-40.12</td>\n      <td>castelo pizzaria</td>\n    </tr>\n    <tr>\n      <th>171</th>\n      <td>618</td>\n      <td>Auki</td>\n      <td>SB</td>\n      <td>86.54</td>\n      <td>light rain</td>\n      <td>-8.77</td>\n      <td>160.70</td>\n      <td>Auki Motel</td>\n    </tr>\n    <tr>\n      <th>172</th>\n      <td>623</td>\n      <td>Ahuimanu</td>\n      <td>US</td>\n      <td>84.20</td>\n      <td>overcast clouds</td>\n      <td>21.44</td>\n      <td>-157.84</td>\n      <td>Paradise Bay Resort</td>\n    </tr>\n    <tr>\n      <th>173</th>\n      <td>624</td>\n      <td>Alice Springs</td>\n      <td>AU</td>\n      <td>89.60</td>\n      <td>clear sky</td>\n      <td>-23.70</td>\n      <td>133.88</td>\n      <td>Desert Palms Alice Springs</td>\n    </tr>\n    <tr>\n      <th>174</th>\n      <td>627</td>\n      <td>San Cosme Y Damian</td>\n      <td>PY</td>\n      <td>82.40</td>\n      <td>scattered clouds</td>\n      <td>-27.32</td>\n      <td>-56.35</td>\n      <td>Posada Turística Aguapey</td>\n    </tr>\n    <tr>\n      <th>175</th>\n      <td>628</td>\n      <td>Road Town</td>\n      <td>VG</td>\n      <td>78.80</td>\n      <td>thunderstorm with light rain</td>\n      <td>18.42</td>\n      <td>-64.62</td>\n      <td>ZINGARA 76ft Catamaran, full crew-all included</td>\n    </tr>\n    <tr>\n      <th>176</th>\n      <td>632</td>\n      <td>Labuhan</td>\n      <td>ID</td>\n      <td>80.26</td>\n      <td>overcast clouds</td>\n      <td>-6.88</td>\n      <td>112.21</td>\n      <td>bador sepret</td>\n    </tr>\n    <tr>\n      <th>177</th>\n      <td>635</td>\n      <td>Cabedelo</td>\n      <td>BR</td>\n      <td>77.00</td>\n      <td>few clouds</td>\n      <td>-6.98</td>\n      <td>-34.83</td>\n      <td>Lua Mansa Pousada</td>\n    </tr>\n    <tr>\n      <th>178</th>\n      <td>637</td>\n      <td>Pauini</td>\n      <td>BR</td>\n      <td>76.75</td>\n      <td>heavy intensity rain</td>\n      <td>-7.71</td>\n      <td>-66.98</td>\n      <td>Casa do Kiwliks</td>\n    </tr>\n    <tr>\n      <th>179</th>\n      <td>641</td>\n      <td>Meulaboh</td>\n      <td>ID</td>\n      <td>76.80</td>\n      <td>overcast clouds</td>\n      <td>4.14</td>\n      <td>96.13</td>\n      <td>Kost Pria</td>\n    </tr>\n    <tr>\n      <th>180</th>\n      <td>643</td>\n      <td>Buala</td>\n      <td>SB</td>\n      <td>84.43</td>\n      <td>light rain</td>\n      <td>-8.14</td>\n      <td>159.59</td>\n      <td>Maringe Lagoon Lodge</td>\n    </tr>\n    <tr>\n      <th>181</th>\n      <td>644</td>\n      <td>Olinda</td>\n      <td>BR</td>\n      <td>80.60</td>\n      <td>scattered clouds</td>\n      <td>-8.01</td>\n      <td>-34.86</td>\n      <td>Hotel 5 Sóis</td>\n    </tr>\n    <tr>\n      <th>182</th>\n      <td>645</td>\n      <td>Oistins</td>\n      <td>BB</td>\n      <td>80.60</td>\n      <td>shower rain</td>\n      <td>13.07</td>\n      <td>-59.53</td>\n      <td>Butterfly Beach Hotel</td>\n    </tr>\n    <tr>\n      <th>183</th>\n      <td>648</td>\n      <td>Mataram</td>\n      <td>ID</td>\n      <td>80.60</td>\n      <td>scattered clouds</td>\n      <td>-8.58</td>\n      <td>116.12</td>\n      <td>Hotel Santika Mataram</td>\n    </tr>\n    <tr>\n      <th>184</th>\n      <td>651</td>\n      <td>Charters Towers</td>\n      <td>AU</td>\n      <td>77.81</td>\n      <td>clear sky</td>\n      <td>-20.10</td>\n      <td>146.27</td>\n      <td>Cattleman's Rest Motor Inn</td>\n    </tr>\n    <tr>\n      <th>185</th>\n      <td>653</td>\n      <td>Inirida</td>\n      <td>CO</td>\n      <td>76.53</td>\n      <td>broken clouds</td>\n      <td>3.87</td>\n      <td>-67.92</td>\n      <td>Fuente del Guania Hotel de Lujo</td>\n    </tr>\n    <tr>\n      <th>186</th>\n      <td>657</td>\n      <td>Mandera</td>\n      <td>KE</td>\n      <td>79.23</td>\n      <td>clear sky</td>\n      <td>3.94</td>\n      <td>41.87</td>\n      <td>Kornesh Hotel and Lodging</td>\n    </tr>\n    <tr>\n      <th>187</th>\n      <td>658</td>\n      <td>Del Rio</td>\n      <td>US</td>\n      <td>80.60</td>\n      <td>clear sky</td>\n      <td>29.36</td>\n      <td>-100.90</td>\n      <td>Holiday Inn Express &amp; Suites del Rio</td>\n    </tr>\n    <tr>\n      <th>188</th>\n      <td>659</td>\n      <td>Kloulklubed</td>\n      <td>PW</td>\n      <td>84.20</td>\n      <td>broken clouds</td>\n      <td>7.04</td>\n      <td>134.26</td>\n      <td>Storyboard Beach Resort</td>\n    </tr>\n    <tr>\n      <th>189</th>\n      <td>662</td>\n      <td>Qui Nhon</td>\n      <td>VN</td>\n      <td>77.18</td>\n      <td>light rain</td>\n      <td>13.77</td>\n      <td>109.23</td>\n      <td>Khách sạn Hải Âu Quy Nhơn - Seagull Hotel</td>\n    </tr>\n    <tr>\n      <th>190</th>\n      <td>663</td>\n      <td>Ciudad Bolivar</td>\n      <td>VE</td>\n      <td>84.22</td>\n      <td>broken clouds</td>\n      <td>8.12</td>\n      <td>-63.55</td>\n      <td>Hotel Edi</td>\n    </tr>\n    <tr>\n      <th>191</th>\n      <td>664</td>\n      <td>Nova Olinda Do Norte</td>\n      <td>BR</td>\n      <td>81.46</td>\n      <td>scattered clouds</td>\n      <td>-3.89</td>\n      <td>-59.09</td>\n      <td>Nova Olinda Palace Hotel</td>\n    </tr>\n    <tr>\n      <th>192</th>\n      <td>666</td>\n      <td>Katherine</td>\n      <td>AU</td>\n      <td>86.00</td>\n      <td>scattered clouds</td>\n      <td>-14.47</td>\n      <td>132.27</td>\n      <td>Pine Tree Motel</td>\n    </tr>\n  </tbody>\n</table>\n</div>"
     },
     "metadata": {},
     "execution_count": 119
    }
   ],
   "source": [
    "# 1. Read the WeatherPy_vacation.csv into a DataFrame.\n",
    "vacation_df = pd.read_csv(\"../Vacation_Search/WeatherPy_vacation.csv\")\n",
    "vacation_df.tail(60)"
   ]
  },
  {
   "cell_type": "code",
   "execution_count": 5,
   "metadata": {},
   "outputs": [],
   "source": [
    "# 2. Using the template add the city name, the country code, the weather description and maximum temperature for the city.\n",
    "info_box_template = \"\"\"\n",
    "<dl>\n",
    "<dt><b>City</b></dt><dd>{City}</dd>\n",
    "<dt><b>Country</b></dt><dd>{Country}</dd>\n",
    "<dt><b>Current Weather</b></dt><dd>{Current Description}</dd>\n",
    "<dt><b>Max Temp</b></dt><dd>{Max Temp}</dd>\n",
    "</dl>\n",
    "\"\"\"\n",
    "\n",
    "# 3a. Get the data from each row and add it to the formatting template and store the data in a list.\n",
    "hotel_info = [info_box_template.format(**row) for index, row in vacation_df.iterrows()]\n",
    "\n",
    "# 3b. Get the latitude and longitude from each row and store in a new DataFrame.\n",
    "locations = vacation_df[[\"Lat\", \"Lng\"]]"
   ]
  },
  {
   "cell_type": "code",
   "execution_count": 6,
   "metadata": {},
   "outputs": [
    {
     "output_type": "display_data",
     "data": {
      "text/plain": "Figure(layout=FigureLayout(height='420px'))",
      "application/vnd.jupyter.widget-view+json": {
       "version_major": 2,
       "version_minor": 0,
       "model_id": "4e58adb157044bed847fb02b64ff785a"
      }
     },
     "metadata": {}
    }
   ],
   "source": [
    "# 4a. Add a marker layer for each city to the map.\n",
    "fig = gmaps.figure(center=(10.0, 30.0), zoom_level=1.8)\n",
    "marker_layer = gmaps.marker_layer(locations, info_box_content=hotel_info)\n",
    "fig.add_layer(marker_layer)\n",
    "# 4b. Display the figure\n",
    "fig\n"
   ]
  },
  {
   "cell_type": "code",
   "execution_count": 140,
   "metadata": {},
   "outputs": [
    {
     "output_type": "execute_result",
     "data": {
      "text/plain": [
       "     City_ID    City Country  Max Temp Current Description    Lat     Lng  \\\n",
       "141      529  Forbes      AU      79.0     overcast clouds -33.38  148.02   \n",
       "\n",
       "            Hotel Name  \n",
       "141  Lake Forbes Motel  "
      ],
      "text/html": "<div>\n<style scoped>\n    .dataframe tbody tr th:only-of-type {\n        vertical-align: middle;\n    }\n\n    .dataframe tbody tr th {\n        vertical-align: top;\n    }\n\n    .dataframe thead th {\n        text-align: right;\n    }\n</style>\n<table border=\"1\" class=\"dataframe\">\n  <thead>\n    <tr style=\"text-align: right;\">\n      <th></th>\n      <th>City_ID</th>\n      <th>City</th>\n      <th>Country</th>\n      <th>Max Temp</th>\n      <th>Current Description</th>\n      <th>Lat</th>\n      <th>Lng</th>\n      <th>Hotel Name</th>\n    </tr>\n  </thead>\n  <tbody>\n    <tr>\n      <th>141</th>\n      <td>529</td>\n      <td>Forbes</td>\n      <td>AU</td>\n      <td>79.0</td>\n      <td>overcast clouds</td>\n      <td>-33.38</td>\n      <td>148.02</td>\n      <td>Lake Forbes Motel</td>\n    </tr>\n  </tbody>\n</table>\n</div>"
     },
     "metadata": {},
     "execution_count": 140
    }
   ],
   "source": [
    "# From the map above pick 4 cities and create a vacation itinerary route to travel between the four cities. \n",
    "# 5. Create DataFrames for each city by filtering the 'vacation_df' using the loc method. \n",
    "# Hint: The starting and ending city should be the same city.\n",
    "\n",
    "vacation_start = vacation_df.loc[vacation_df[\"City\"] == \"Byron Bay\"]\n",
    "vacation_end = vacation_start\n",
    "vacation_stop1 = vacation_df.loc[vacation_df[\"City\"] == \"Sawtell\"]\n",
    "vacation_stop2 = vacation_df.loc[vacation_df[\"City\"] == \"Port Macquarie\"]\n",
    "vacation_stop3 = vacation_df.loc[vacation_df[\"City\"] == \"Forbes\"]\n",
    "vacation_stop3"
   ]
  },
  {
   "cell_type": "code",
   "execution_count": 128,
   "metadata": {},
   "outputs": [
    {
     "output_type": "stream",
     "name": "stdout",
     "text": [
      "(-28.65, 153.62)\n(-28.65, 153.62)\n"
     ]
    }
   ],
   "source": [
    "# 6. Get the latitude-longitude pairs as tuples from each city DataFrame using the to_numpy function and list indexing.\n",
    "start = vacation_start[\"Lat\"].to_numpy()[0], vacation_start[\"Lng\"].to_numpy()[0]\n",
    "end = vacation_end[\"Lat\"].to_numpy()[0], vacation_end[\"Lng\"].to_numpy()[0]\n",
    "stop1 = vacation_stop1[\"Lat\"].to_numpy()[0], vacation_stop1[\"Lng\"].to_numpy()[0]\n",
    "stop2 = vacation_stop2[\"Lat\"].to_numpy()[0], vacation_stop2[\"Lng\"].to_numpy()[0]\n",
    "stop3 = vacation_stop3[\"Lat\"].to_numpy()[0], vacation_stop3[\"Lng\"].to_numpy()[0]\n",
    "print(start)\n",
    "print(end)"
   ]
  },
  {
   "cell_type": "code",
   "execution_count": 95,
   "metadata": {
    "scrolled": true
   },
   "outputs": [
    {
     "output_type": "display_data",
     "data": {
      "text/plain": "Figure(layout=FigureLayout(height='420px'))",
      "application/vnd.jupyter.widget-view+json": {
       "version_major": 2,
       "version_minor": 0,
       "model_id": "048b87866f8b40cb85837c7995b51799"
      }
     },
     "metadata": {}
    }
   ],
   "source": [
    "# 7. Create a direction layer map using the start and end latitude-longitude pairs,\n",
    "# and stop1, stop2, and stop3 as the waypoints. The travel_mode should be \"DRIVING\", \"BICYCLING\", or \"WALKING\".\n",
    "fig = gmaps.figure()\n",
    "waypoints = [stop1, stop2, stop3]\n",
    "directions = gmaps.directions_layer(start, end, waypoints=waypoints, travel_mode=\"DRIVING\")\n",
    "fig.add_layer(directions)\n",
    "\n",
    "fig"
   ]
  },
  {
   "cell_type": "code",
   "execution_count": 129,
   "metadata": {},
   "outputs": [
    {
     "output_type": "execute_result",
     "data": {
      "text/plain": [
       "   City_ID            City Country  Max Temp Current Description    Lat  \\\n",
       "0       45       Byron Bay      AU     78.01       broken clouds -28.65   \n",
       "1      537         Sawtell      AU     77.00    scattered clouds -30.38   \n",
       "2      353  Port Macquarie      AU     80.01    scattered clouds -31.43   \n",
       "3      529          Forbes      AU     79.00     overcast clouds -33.38   \n",
       "\n",
       "      Lng                    Hotel Name  \n",
       "0  153.62  Backpackers Inn on the Beach  \n",
       "1  153.10   Boambee Waters Caravan Park  \n",
       "2  152.92         Rydges Port Macquarie  \n",
       "3  148.02             Lake Forbes Motel  "
      ],
      "text/html": "<div>\n<style scoped>\n    .dataframe tbody tr th:only-of-type {\n        vertical-align: middle;\n    }\n\n    .dataframe tbody tr th {\n        vertical-align: top;\n    }\n\n    .dataframe thead th {\n        text-align: right;\n    }\n</style>\n<table border=\"1\" class=\"dataframe\">\n  <thead>\n    <tr style=\"text-align: right;\">\n      <th></th>\n      <th>City_ID</th>\n      <th>City</th>\n      <th>Country</th>\n      <th>Max Temp</th>\n      <th>Current Description</th>\n      <th>Lat</th>\n      <th>Lng</th>\n      <th>Hotel Name</th>\n    </tr>\n  </thead>\n  <tbody>\n    <tr>\n      <th>0</th>\n      <td>45</td>\n      <td>Byron Bay</td>\n      <td>AU</td>\n      <td>78.01</td>\n      <td>broken clouds</td>\n      <td>-28.65</td>\n      <td>153.62</td>\n      <td>Backpackers Inn on the Beach</td>\n    </tr>\n    <tr>\n      <th>1</th>\n      <td>537</td>\n      <td>Sawtell</td>\n      <td>AU</td>\n      <td>77.00</td>\n      <td>scattered clouds</td>\n      <td>-30.38</td>\n      <td>153.10</td>\n      <td>Boambee Waters Caravan Park</td>\n    </tr>\n    <tr>\n      <th>2</th>\n      <td>353</td>\n      <td>Port Macquarie</td>\n      <td>AU</td>\n      <td>80.01</td>\n      <td>scattered clouds</td>\n      <td>-31.43</td>\n      <td>152.92</td>\n      <td>Rydges Port Macquarie</td>\n    </tr>\n    <tr>\n      <th>3</th>\n      <td>529</td>\n      <td>Forbes</td>\n      <td>AU</td>\n      <td>79.00</td>\n      <td>overcast clouds</td>\n      <td>-33.38</td>\n      <td>148.02</td>\n      <td>Lake Forbes Motel</td>\n    </tr>\n  </tbody>\n</table>\n</div>"
     },
     "metadata": {},
     "execution_count": 129
    }
   ],
   "source": [
    "# 8. To create a marker layer map between the four cities.\n",
    "#  Combine the four city DataFrames into one DataFrame using the concat() function.\n",
    "itinerary_df = pd.concat([vacation_start, vacation_stop1, vacation_stop2, vacation_stop3], ignore_index=True)\n",
    "itinerary_df"
   ]
  },
  {
   "cell_type": "code",
   "execution_count": 133,
   "metadata": {},
   "outputs": [],
   "source": [
    "# 9 Using the template add city name, the country code, the weather description and maximum temperature for the city. \n",
    "info_box_template = \"\"\"\n",
    "<dl>\n",
    "<dt><b>Hotel Name</b></dt>{Hotel Name}\n",
    "<dt><b>City</b></dt>{City}\n",
    "<dt><b>Country</b></dt>{Country}\n",
    "<dt><b>Current Weather</b></dt>{Current Description}\n",
    "</dl>\n",
    "\"\"\"\n",
    "\n",
    "# 10a Get the data from each row and add it to the formatting template and store the data in a list.\n",
    "hotel_info = [info_box_template.format(**row) for index, row in itinerary_df.iterrows()]\n",
    "\n",
    "# 10b. Get the latitude and longitude from each row and store in a new DataFrame.\n",
    "locations = itinerary_df[[\"Lat\", \"Lng\"]]"
   ]
  },
  {
   "cell_type": "code",
   "execution_count": 139,
   "metadata": {},
   "outputs": [
    {
     "output_type": "display_data",
     "data": {
      "text/plain": "Figure(layout=FigureLayout(height='420px'))",
      "application/vnd.jupyter.widget-view+json": {
       "version_major": 2,
       "version_minor": 0,
       "model_id": "bd793b6e1a734a528fa8c83ed5c83949"
      }
     },
     "metadata": {}
    }
   ],
   "source": [
    "# 11a. Add a marker layer for each city to the map.\n",
    "\n",
    "fig = gmaps.figure()\n",
    "\n",
    "waypoints = [stop1, stop2, stop3]\n",
    "##directions = gmaps.directions_layer(start, end, waypoints=waypoints, travel_mode=\"DRIVING\")\n",
    "marker_layer = gmaps.marker_layer(locations, info_box_content=hotel_info)\n",
    "\n",
    "#fig.add_layer(directions)\n",
    "fig.add_layer(marker_layer)\n",
    "\n",
    "# 11b. Display the figure\n",
    "fig"
   ]
  },
  {
   "cell_type": "code",
   "execution_count": null,
   "metadata": {},
   "outputs": [],
   "source": []
  }
 ],
 "metadata": {
  "kernelspec": {
   "name": "Python 3.7.7 64-bit ('PythonData': conda)",
   "display_name": "Python 3.7.7 64-bit ('PythonData': conda)",
   "metadata": {
    "interpreter": {
     "hash": "06947af63d400d5f429eac8148c2b13ff3a8ebfdac4eae92c530c5968c51227e"
    }
   }
  },
  "language_info": {
   "codemirror_mode": {
    "name": "ipython",
    "version": 3
   },
   "file_extension": ".py",
   "mimetype": "text/x-python",
   "name": "python",
   "nbconvert_exporter": "python",
   "pygments_lexer": "ipython3",
   "version": "3.7.7-final"
  },
  "latex_envs": {
   "LaTeX_envs_menu_present": true,
   "autoclose": false,
   "autocomplete": true,
   "bibliofile": "biblio.bib",
   "cite_by": "apalike",
   "current_citInitial": 1,
   "eqLabelWithNumbers": true,
   "eqNumInitial": 1,
   "hotkeys": {
    "equation": "Ctrl-E",
    "itemize": "Ctrl-I"
   },
   "labels_anchors": false,
   "latex_user_defs": false,
   "report_style_numbering": false,
   "user_envs_cfg": false
  }
 },
 "nbformat": 4,
 "nbformat_minor": 2
}