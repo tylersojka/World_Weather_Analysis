{
 "metadata": {
  "language_info": {
   "codemirror_mode": {
    "name": "ipython",
    "version": 3
   },
   "file_extension": ".py",
   "mimetype": "text/x-python",
   "name": "python",
   "nbconvert_exporter": "python",
   "pygments_lexer": "ipython3",
   "version": "3.7.7-final"
  },
  "orig_nbformat": 2,
  "kernelspec": {
   "name": "Python 3.7.7 64-bit ('PythonData': conda)",
   "display_name": "Python 3.7.7 64-bit ('PythonData': conda)",
   "metadata": {
    "interpreter": {
     "hash": "06947af63d400d5f429eac8148c2b13ff3a8ebfdac4eae92c530c5968c51227e"
    }
   }
  }
 },
 "nbformat": 4,
 "nbformat_minor": 2,
 "cells": [
  {
   "cell_type": "code",
   "execution_count": 4,
   "metadata": {},
   "outputs": [],
   "source": [
    "# Import the dependencies.\n",
    "import pandas as pd\n",
    "import gmaps\n",
    "import requests\n",
    "# Import the API key.\n",
    "from config import g_key"
   ]
  },
  {
   "cell_type": "code",
   "execution_count": 5,
   "metadata": {},
   "outputs": [],
   "source": [
    "# Configure gmaps to use your Google API key.\n",
    "gmaps.configure(api_key=g_key)"
   ]
  },
  {
   "cell_type": "code",
   "execution_count": 6,
   "metadata": {},
   "outputs": [
    {
     "output_type": "execute_result",
     "data": {
      "text/plain": [
       "     City_ID                     City Country                 Date    Lat  \\\n",
       "0          0                   Pinega      RU  2020-10-17 00:24:54  64.70   \n",
       "1          1          Arraial Do Cabo      BR  2020-10-17 00:24:55 -22.97   \n",
       "2          2             Punta Arenas      CL  2020-10-17 00:22:11 -53.15   \n",
       "3          3                  Ushuaia      AR  2020-10-17 00:24:55 -54.80   \n",
       "4          4                  Qaanaaq      GL  2020-10-17 00:24:55  77.48   \n",
       "..       ...                      ...     ...                  ...    ...   \n",
       "535      535                 Lokosovo      RU  2020-10-17 00:26:13  61.13   \n",
       "536      536  Puerto Baquerizo Moreno      EC  2020-10-17 00:26:13  -0.90   \n",
       "537      537                    Juuru      EE  2020-10-17 00:26:13  59.06   \n",
       "538      538                  Rosetta      EG  2020-10-17 00:26:13  31.40   \n",
       "539      539                     Nara      JP  2020-10-17 00:26:13  34.69   \n",
       "\n",
       "        Lng  Max Temp  Humidity  Cloudiness  Wind Speed  \n",
       "0     43.39     32.04        95          89        9.82  \n",
       "1    -42.03     70.23        73          92        8.72  \n",
       "2    -70.92     41.00        86          75       10.29  \n",
       "3    -68.30     42.80        85          40       25.28  \n",
       "4    -69.36     30.99        87         100        6.89  \n",
       "..      ...       ...       ...         ...         ...  \n",
       "535   74.82     37.11        77          87       21.63  \n",
       "536  -89.60     70.09        86          97       11.88  \n",
       "537   24.96     39.20        86          75        2.24  \n",
       "538   30.42     73.40        69           3        5.10  \n",
       "539  135.80     57.00        93          75        1.12  \n",
       "\n",
       "[540 rows x 10 columns]"
      ],
      "text/html": "<div>\n<style scoped>\n    .dataframe tbody tr th:only-of-type {\n        vertical-align: middle;\n    }\n\n    .dataframe tbody tr th {\n        vertical-align: top;\n    }\n\n    .dataframe thead th {\n        text-align: right;\n    }\n</style>\n<table border=\"1\" class=\"dataframe\">\n  <thead>\n    <tr style=\"text-align: right;\">\n      <th></th>\n      <th>City_ID</th>\n      <th>City</th>\n      <th>Country</th>\n      <th>Date</th>\n      <th>Lat</th>\n      <th>Lng</th>\n      <th>Max Temp</th>\n      <th>Humidity</th>\n      <th>Cloudiness</th>\n      <th>Wind Speed</th>\n    </tr>\n  </thead>\n  <tbody>\n    <tr>\n      <th>0</th>\n      <td>0</td>\n      <td>Pinega</td>\n      <td>RU</td>\n      <td>2020-10-17 00:24:54</td>\n      <td>64.70</td>\n      <td>43.39</td>\n      <td>32.04</td>\n      <td>95</td>\n      <td>89</td>\n      <td>9.82</td>\n    </tr>\n    <tr>\n      <th>1</th>\n      <td>1</td>\n      <td>Arraial Do Cabo</td>\n      <td>BR</td>\n      <td>2020-10-17 00:24:55</td>\n      <td>-22.97</td>\n      <td>-42.03</td>\n      <td>70.23</td>\n      <td>73</td>\n      <td>92</td>\n      <td>8.72</td>\n    </tr>\n    <tr>\n      <th>2</th>\n      <td>2</td>\n      <td>Punta Arenas</td>\n      <td>CL</td>\n      <td>2020-10-17 00:22:11</td>\n      <td>-53.15</td>\n      <td>-70.92</td>\n      <td>41.00</td>\n      <td>86</td>\n      <td>75</td>\n      <td>10.29</td>\n    </tr>\n    <tr>\n      <th>3</th>\n      <td>3</td>\n      <td>Ushuaia</td>\n      <td>AR</td>\n      <td>2020-10-17 00:24:55</td>\n      <td>-54.80</td>\n      <td>-68.30</td>\n      <td>42.80</td>\n      <td>85</td>\n      <td>40</td>\n      <td>25.28</td>\n    </tr>\n    <tr>\n      <th>4</th>\n      <td>4</td>\n      <td>Qaanaaq</td>\n      <td>GL</td>\n      <td>2020-10-17 00:24:55</td>\n      <td>77.48</td>\n      <td>-69.36</td>\n      <td>30.99</td>\n      <td>87</td>\n      <td>100</td>\n      <td>6.89</td>\n    </tr>\n    <tr>\n      <th>...</th>\n      <td>...</td>\n      <td>...</td>\n      <td>...</td>\n      <td>...</td>\n      <td>...</td>\n      <td>...</td>\n      <td>...</td>\n      <td>...</td>\n      <td>...</td>\n      <td>...</td>\n    </tr>\n    <tr>\n      <th>535</th>\n      <td>535</td>\n      <td>Lokosovo</td>\n      <td>RU</td>\n      <td>2020-10-17 00:26:13</td>\n      <td>61.13</td>\n      <td>74.82</td>\n      <td>37.11</td>\n      <td>77</td>\n      <td>87</td>\n      <td>21.63</td>\n    </tr>\n    <tr>\n      <th>536</th>\n      <td>536</td>\n      <td>Puerto Baquerizo Moreno</td>\n      <td>EC</td>\n      <td>2020-10-17 00:26:13</td>\n      <td>-0.90</td>\n      <td>-89.60</td>\n      <td>70.09</td>\n      <td>86</td>\n      <td>97</td>\n      <td>11.88</td>\n    </tr>\n    <tr>\n      <th>537</th>\n      <td>537</td>\n      <td>Juuru</td>\n      <td>EE</td>\n      <td>2020-10-17 00:26:13</td>\n      <td>59.06</td>\n      <td>24.96</td>\n      <td>39.20</td>\n      <td>86</td>\n      <td>75</td>\n      <td>2.24</td>\n    </tr>\n    <tr>\n      <th>538</th>\n      <td>538</td>\n      <td>Rosetta</td>\n      <td>EG</td>\n      <td>2020-10-17 00:26:13</td>\n      <td>31.40</td>\n      <td>30.42</td>\n      <td>73.40</td>\n      <td>69</td>\n      <td>3</td>\n      <td>5.10</td>\n    </tr>\n    <tr>\n      <th>539</th>\n      <td>539</td>\n      <td>Nara</td>\n      <td>JP</td>\n      <td>2020-10-17 00:26:13</td>\n      <td>34.69</td>\n      <td>135.80</td>\n      <td>57.00</td>\n      <td>93</td>\n      <td>75</td>\n      <td>1.12</td>\n    </tr>\n  </tbody>\n</table>\n<p>540 rows × 10 columns</p>\n</div>"
     },
     "metadata": {},
     "execution_count": 6
    }
   ],
   "source": [
    "city_data_df = pd.read_csv(\"weather_data/cities.csv\")\n",
    "city_data_df"
   ]
  },
  {
   "cell_type": "code",
   "execution_count": 7,
   "metadata": {},
   "outputs": [
    {
     "output_type": "execute_result",
     "data": {
      "text/plain": [
       "City_ID         int64\n",
       "City           object\n",
       "Country        object\n",
       "Date           object\n",
       "Lat           float64\n",
       "Lng           float64\n",
       "Max Temp      float64\n",
       "Humidity        int64\n",
       "Cloudiness      int64\n",
       "Wind Speed    float64\n",
       "dtype: object"
      ]
     },
     "metadata": {},
     "execution_count": 7
    }
   ],
   "source": [
    "city_data_df.dtypes"
   ]
  },
  {
   "cell_type": "code",
   "execution_count": 8,
   "metadata": {},
   "outputs": [],
   "source": [
    "# get rid of negative max temps for heat map?\n",
    "#city_data_df = city_data_df[city_data_df[\"Max Temp\"] >= 0]\n",
    "\n"
   ]
  },
  {
   "cell_type": "code",
   "execution_count": 9,
   "metadata": {},
   "outputs": [],
   "source": [
    "# Get the maximum temperature.\n",
    "max_temp = city_data_df[\"Max Temp\"]\n",
    "temps = []\n",
    "for temp in max_temp:\n",
    "    temps.append(max(temp, 0))"
   ]
  },
  {
   "cell_type": "code",
   "execution_count": 24,
   "metadata": {},
   "outputs": [
    {
     "output_type": "display_data",
     "data": {
      "text/plain": "Figure(layout=FigureLayout(height='420px'))",
      "application/vnd.jupyter.widget-view+json": {
       "version_major": 2,
       "version_minor": 0,
       "model_id": "96b8d05bdd4249159efedc97db3ff8fc"
      }
     },
     "metadata": {}
    }
   ],
   "source": [
    "# Heatmap of temperature\n",
    "# Get the latitude and longitude.\n",
    "locations = city_data_df[[\"Lat\", \"Lng\"]]\n",
    "# Get the maximum temperature.\n",
    "max_temp = city_data_df[\"Max Temp\"]\n",
    "# Assign the figure variable.\n",
    "fig = gmaps.figure(center=(30.0, 30.0), zoom_level=1.45)\n",
    "# Assign the heatmap variable.\n",
    "heat_layer = gmaps.heatmap_layer(locations, weights=[max(temp, 0) for temp in max_temp], dissipating=False, max_intensity=300, point_radius=4)\n",
    "# Add the heatmap layer.\n",
    "fig.add_layer(heat_layer)\n",
    "# Call the figure to plot the data.\n",
    "fig"
   ]
  },
  {
   "cell_type": "code",
   "execution_count": 11,
   "metadata": {},
   "outputs": [
    {
     "output_type": "display_data",
     "data": {
      "text/plain": "Figure(layout=FigureLayout(height='420px'))",
      "application/vnd.jupyter.widget-view+json": {
       "version_major": 2,
       "version_minor": 0,
       "model_id": "94a91a9844d34850be5085ca08f5c9e8"
      }
     },
     "metadata": {}
    }
   ],
   "source": [
    "# Heatmap of percent humidity\n",
    "locations = city_data_df[[\"Lat\", \"Lng\"]]\n",
    "humidity = city_data_df[\"Humidity\"]\n",
    "fig = gmaps.figure(center=(30.0, 31.0), zoom_level=1.5)\n",
    "heat_layer = gmaps.heatmap_layer(locations, weights=humidity, dissipating=False, max_intensity=300, point_radius=4)\n",
    "\n",
    "fig.add_layer(heat_layer)\n",
    "# Call the figure to plot the data.\n",
    "fig"
   ]
  },
  {
   "cell_type": "code",
   "execution_count": 12,
   "metadata": {},
   "outputs": [
    {
     "output_type": "display_data",
     "data": {
      "text/plain": "Figure(layout=FigureLayout(height='420px'))",
      "application/vnd.jupyter.widget-view+json": {
       "version_major": 2,
       "version_minor": 0,
       "model_id": "300f48f36c3d4462af40985e85c85a1f"
      }
     },
     "metadata": {}
    }
   ],
   "source": [
    "# Heatmap of percent humidity\n",
    "locations = city_data_df[[\"Lat\", \"Lng\"]]\n",
    "clouds = city_data_df[\"Cloudiness\"]\n",
    "fig = gmaps.figure(center=(30.0, 31.0), zoom_level=1.5)\n",
    "heat_layer = gmaps.heatmap_layer(locations, weights=clouds, dissipating=False, max_intensity=300, point_radius=4)\n",
    "\n",
    "fig.add_layer(heat_layer)\n",
    "# Call the figure to plot the data.\n",
    "fig"
   ]
  },
  {
   "cell_type": "code",
   "execution_count": 13,
   "metadata": {},
   "outputs": [
    {
     "output_type": "display_data",
     "data": {
      "text/plain": "Figure(layout=FigureLayout(height='420px'))",
      "application/vnd.jupyter.widget-view+json": {
       "version_major": 2,
       "version_minor": 0,
       "model_id": "8b0a03b7af234550b7c1925ea87501ef"
      }
     },
     "metadata": {}
    }
   ],
   "source": [
    "# Heatmap of percent humidity\n",
    "locations = city_data_df[[\"Lat\", \"Lng\"]]\n",
    "wind = city_data_df[\"Wind Speed\"]\n",
    "fig = gmaps.figure(center=(30.0, 31.0), zoom_level=1.5)\n",
    "heat_layer = gmaps.heatmap_layer(locations, weights=wind, dissipating=False, max_intensity=300, point_radius=4)\n",
    "\n",
    "fig.add_layer(heat_layer)\n",
    "# Call the figure to plot the data.\n",
    "fig"
   ]
  },
  {
   "cell_type": "code",
   "execution_count": 14,
   "metadata": {},
   "outputs": [],
   "source": [
    "# Ask the customer to add a minimum and maximum temperature value.\n",
    "min_temp = float(input(\"What is the minimum temperature you would like for your trip? \"))\n",
    "max_temp = float(input(\"What is the maximum temperature you would like for your trip? \"))\n"
   ]
  },
  {
   "cell_type": "code",
   "execution_count": 15,
   "metadata": {},
   "outputs": [
    {
     "output_type": "execute_result",
     "data": {
      "text/plain": [
       "    City_ID             City Country                 Date    Lat     Lng  \\\n",
       "1         1  Arraial Do Cabo      BR  2020-10-17 00:24:55 -22.97  -42.03   \n",
       "5         5           Avarua      CK  2020-10-17 00:24:55 -21.21 -159.78   \n",
       "12       12            Adrar      MR  2020-10-17 00:24:56  20.50  -10.07   \n",
       "15       15         Bengkulu      ID  2020-10-17 00:24:56  -3.80  102.27   \n",
       "18       18   Saint-Philippe      RE  2020-10-17 00:24:57 -21.36   55.77   \n",
       "20       20            Amapa      BR  2020-10-17 00:24:57   1.00  -52.00   \n",
       "28       28          Odweyne      SO  2020-10-17 00:24:58   9.41   45.06   \n",
       "29       29            Kapaa      US  2020-10-17 00:24:58  22.08 -159.32   \n",
       "31       31       Nouakchott      MR  2020-10-17 00:24:59  18.09  -15.98   \n",
       "41       41          Rikitea      PF  2020-10-17 00:25:00 -23.12 -134.97   \n",
       "\n",
       "    Max Temp  Humidity  Cloudiness  Wind Speed  \n",
       "1      70.23        73          92        8.72  \n",
       "5      78.80        61          28       10.29  \n",
       "12     87.82        16           0        8.99  \n",
       "15     76.12        85          65        3.11  \n",
       "18     71.60        60          22        6.93  \n",
       "20     80.38        49          66        5.79  \n",
       "28     73.47        44           2        0.94  \n",
       "29     84.20        70          20       13.87  \n",
       "31     86.00        51          58       10.29  \n",
       "41     73.87        81          99       19.75  "
      ],
      "text/html": "<div>\n<style scoped>\n    .dataframe tbody tr th:only-of-type {\n        vertical-align: middle;\n    }\n\n    .dataframe tbody tr th {\n        vertical-align: top;\n    }\n\n    .dataframe thead th {\n        text-align: right;\n    }\n</style>\n<table border=\"1\" class=\"dataframe\">\n  <thead>\n    <tr style=\"text-align: right;\">\n      <th></th>\n      <th>City_ID</th>\n      <th>City</th>\n      <th>Country</th>\n      <th>Date</th>\n      <th>Lat</th>\n      <th>Lng</th>\n      <th>Max Temp</th>\n      <th>Humidity</th>\n      <th>Cloudiness</th>\n      <th>Wind Speed</th>\n    </tr>\n  </thead>\n  <tbody>\n    <tr>\n      <th>1</th>\n      <td>1</td>\n      <td>Arraial Do Cabo</td>\n      <td>BR</td>\n      <td>2020-10-17 00:24:55</td>\n      <td>-22.97</td>\n      <td>-42.03</td>\n      <td>70.23</td>\n      <td>73</td>\n      <td>92</td>\n      <td>8.72</td>\n    </tr>\n    <tr>\n      <th>5</th>\n      <td>5</td>\n      <td>Avarua</td>\n      <td>CK</td>\n      <td>2020-10-17 00:24:55</td>\n      <td>-21.21</td>\n      <td>-159.78</td>\n      <td>78.80</td>\n      <td>61</td>\n      <td>28</td>\n      <td>10.29</td>\n    </tr>\n    <tr>\n      <th>12</th>\n      <td>12</td>\n      <td>Adrar</td>\n      <td>MR</td>\n      <td>2020-10-17 00:24:56</td>\n      <td>20.50</td>\n      <td>-10.07</td>\n      <td>87.82</td>\n      <td>16</td>\n      <td>0</td>\n      <td>8.99</td>\n    </tr>\n    <tr>\n      <th>15</th>\n      <td>15</td>\n      <td>Bengkulu</td>\n      <td>ID</td>\n      <td>2020-10-17 00:24:56</td>\n      <td>-3.80</td>\n      <td>102.27</td>\n      <td>76.12</td>\n      <td>85</td>\n      <td>65</td>\n      <td>3.11</td>\n    </tr>\n    <tr>\n      <th>18</th>\n      <td>18</td>\n      <td>Saint-Philippe</td>\n      <td>RE</td>\n      <td>2020-10-17 00:24:57</td>\n      <td>-21.36</td>\n      <td>55.77</td>\n      <td>71.60</td>\n      <td>60</td>\n      <td>22</td>\n      <td>6.93</td>\n    </tr>\n    <tr>\n      <th>20</th>\n      <td>20</td>\n      <td>Amapa</td>\n      <td>BR</td>\n      <td>2020-10-17 00:24:57</td>\n      <td>1.00</td>\n      <td>-52.00</td>\n      <td>80.38</td>\n      <td>49</td>\n      <td>66</td>\n      <td>5.79</td>\n    </tr>\n    <tr>\n      <th>28</th>\n      <td>28</td>\n      <td>Odweyne</td>\n      <td>SO</td>\n      <td>2020-10-17 00:24:58</td>\n      <td>9.41</td>\n      <td>45.06</td>\n      <td>73.47</td>\n      <td>44</td>\n      <td>2</td>\n      <td>0.94</td>\n    </tr>\n    <tr>\n      <th>29</th>\n      <td>29</td>\n      <td>Kapaa</td>\n      <td>US</td>\n      <td>2020-10-17 00:24:58</td>\n      <td>22.08</td>\n      <td>-159.32</td>\n      <td>84.20</td>\n      <td>70</td>\n      <td>20</td>\n      <td>13.87</td>\n    </tr>\n    <tr>\n      <th>31</th>\n      <td>31</td>\n      <td>Nouakchott</td>\n      <td>MR</td>\n      <td>2020-10-17 00:24:59</td>\n      <td>18.09</td>\n      <td>-15.98</td>\n      <td>86.00</td>\n      <td>51</td>\n      <td>58</td>\n      <td>10.29</td>\n    </tr>\n    <tr>\n      <th>41</th>\n      <td>41</td>\n      <td>Rikitea</td>\n      <td>PF</td>\n      <td>2020-10-17 00:25:00</td>\n      <td>-23.12</td>\n      <td>-134.97</td>\n      <td>73.87</td>\n      <td>81</td>\n      <td>99</td>\n      <td>19.75</td>\n    </tr>\n  </tbody>\n</table>\n</div>"
     },
     "metadata": {},
     "execution_count": 15
    }
   ],
   "source": [
    "# Filter the dataset to find the cities that fit the criteria.\n",
    "preferred_cities_df = city_data_df.loc[(city_data_df[\"Max Temp\"] <= max_temp) & \\\n",
    "                                       (city_data_df[\"Max Temp\"] >= min_temp)].dropna()\n",
    "preferred_cities_df.head(10)"
   ]
  },
  {
   "cell_type": "code",
   "execution_count": 16,
   "metadata": {},
   "outputs": [
    {
     "output_type": "execute_result",
     "data": {
      "text/plain": [
       "City_ID       0\n",
       "City          0\n",
       "Country       0\n",
       "Date          0\n",
       "Lat           0\n",
       "Lng           0\n",
       "Max Temp      0\n",
       "Humidity      0\n",
       "Cloudiness    0\n",
       "Wind Speed    0\n",
       "dtype: int64"
      ]
     },
     "metadata": {},
     "execution_count": 16
    }
   ],
   "source": [
    "preferred_cities_df.isnull().sum()\n",
    "#preferred_cities_df.notnull().sum()\n",
    "#preferred_cities_df.count()\n"
   ]
  },
  {
   "cell_type": "code",
   "execution_count": 17,
   "metadata": {},
   "outputs": [
    {
     "output_type": "execute_result",
     "data": {
      "text/plain": [
       "               City Country  Max Temp    Lat     Lng Hotel Name\n",
       "1   Arraial Do Cabo      BR     70.23 -22.97  -42.03           \n",
       "5            Avarua      CK     78.80 -21.21 -159.78           \n",
       "12            Adrar      MR     87.82  20.50  -10.07           \n",
       "15         Bengkulu      ID     76.12  -3.80  102.27           \n",
       "18   Saint-Philippe      RE     71.60 -21.36   55.77           \n",
       "20            Amapa      BR     80.38   1.00  -52.00           \n",
       "28          Odweyne      SO     73.47   9.41   45.06           \n",
       "29            Kapaa      US     84.20  22.08 -159.32           \n",
       "31       Nouakchott      MR     86.00  18.09  -15.98           \n",
       "41          Rikitea      PF     73.87 -23.12 -134.97           "
      ],
      "text/html": "<div>\n<style scoped>\n    .dataframe tbody tr th:only-of-type {\n        vertical-align: middle;\n    }\n\n    .dataframe tbody tr th {\n        vertical-align: top;\n    }\n\n    .dataframe thead th {\n        text-align: right;\n    }\n</style>\n<table border=\"1\" class=\"dataframe\">\n  <thead>\n    <tr style=\"text-align: right;\">\n      <th></th>\n      <th>City</th>\n      <th>Country</th>\n      <th>Max Temp</th>\n      <th>Lat</th>\n      <th>Lng</th>\n      <th>Hotel Name</th>\n    </tr>\n  </thead>\n  <tbody>\n    <tr>\n      <th>1</th>\n      <td>Arraial Do Cabo</td>\n      <td>BR</td>\n      <td>70.23</td>\n      <td>-22.97</td>\n      <td>-42.03</td>\n      <td></td>\n    </tr>\n    <tr>\n      <th>5</th>\n      <td>Avarua</td>\n      <td>CK</td>\n      <td>78.80</td>\n      <td>-21.21</td>\n      <td>-159.78</td>\n      <td></td>\n    </tr>\n    <tr>\n      <th>12</th>\n      <td>Adrar</td>\n      <td>MR</td>\n      <td>87.82</td>\n      <td>20.50</td>\n      <td>-10.07</td>\n      <td></td>\n    </tr>\n    <tr>\n      <th>15</th>\n      <td>Bengkulu</td>\n      <td>ID</td>\n      <td>76.12</td>\n      <td>-3.80</td>\n      <td>102.27</td>\n      <td></td>\n    </tr>\n    <tr>\n      <th>18</th>\n      <td>Saint-Philippe</td>\n      <td>RE</td>\n      <td>71.60</td>\n      <td>-21.36</td>\n      <td>55.77</td>\n      <td></td>\n    </tr>\n    <tr>\n      <th>20</th>\n      <td>Amapa</td>\n      <td>BR</td>\n      <td>80.38</td>\n      <td>1.00</td>\n      <td>-52.00</td>\n      <td></td>\n    </tr>\n    <tr>\n      <th>28</th>\n      <td>Odweyne</td>\n      <td>SO</td>\n      <td>73.47</td>\n      <td>9.41</td>\n      <td>45.06</td>\n      <td></td>\n    </tr>\n    <tr>\n      <th>29</th>\n      <td>Kapaa</td>\n      <td>US</td>\n      <td>84.20</td>\n      <td>22.08</td>\n      <td>-159.32</td>\n      <td></td>\n    </tr>\n    <tr>\n      <th>31</th>\n      <td>Nouakchott</td>\n      <td>MR</td>\n      <td>86.00</td>\n      <td>18.09</td>\n      <td>-15.98</td>\n      <td></td>\n    </tr>\n    <tr>\n      <th>41</th>\n      <td>Rikitea</td>\n      <td>PF</td>\n      <td>73.87</td>\n      <td>-23.12</td>\n      <td>-134.97</td>\n      <td></td>\n    </tr>\n  </tbody>\n</table>\n</div>"
     },
     "metadata": {},
     "execution_count": 17
    }
   ],
   "source": [
    "# Create DataFrame called hotel_df to store hotel names along with city, country, max temp, and coordinates.\n",
    "hotel_df = preferred_cities_df[[\"City\", \"Country\", \"Max Temp\", \"Lat\", \"Lng\"]].copy()\n",
    "hotel_df[\"Hotel Name\"] = \"\"\n",
    "hotel_df.head(10)"
   ]
  },
  {
   "cell_type": "code",
   "execution_count": 18,
   "metadata": {},
   "outputs": [
    {
     "output_type": "stream",
     "name": "stdout",
     "text": [
      "Hotel not found... skipping.\n",
      "Hotel not found... skipping.\n",
      "Hotel not found... skipping.\n",
      "Hotel not found... skipping.\n",
      "Hotel not found... skipping.\n",
      "Hotel not found... skipping.\n",
      "Hotel not found... skipping.\n",
      "Hotel not found... skipping.\n",
      "Hotel not found... skipping.\n"
     ]
    }
   ],
   "source": [
    "# Set parameters to search for a hotel.\n",
    "params = {\n",
    "    \"radius\": 5000,\n",
    "    \"type\": \"lodging\",\n",
    "    \"key\": g_key\n",
    "}\n",
    "\n",
    "# Iterate through the DataFrame.\n",
    "for index, row in hotel_df.iterrows():\n",
    "    # Get the latitude and longitude.\n",
    "    lat = row[\"Lat\"]\n",
    "    lng = row[\"Lng\"]\n",
    "\n",
    "    # Add the latitude and longitude to location key for the params dictionary.\n",
    "    params[\"location\"] = f\"{lat},{lng}\"\n",
    "\n",
    "    # Use the search term: \"lodging\" and our latitude and longitude.\n",
    "    base_url = \"https://maps.googleapis.com/maps/api/place/nearbysearch/json\"\n",
    "    # Make request and get the JSON data from the search.\n",
    "    hotels = requests.get(base_url, params=params).json()\n",
    "    # Grab the first hotel from the results and store the name.\n",
    "    try:\n",
    "        hotel_df.loc[index, \"Hotel Name\"] = hotels[\"results\"][0][\"name\"]\n",
    "    except (IndexError):\n",
    "        print(\"Hotel not found... skipping.\")"
   ]
  },
  {
   "cell_type": "code",
   "execution_count": 19,
   "metadata": {},
   "outputs": [
    {
     "output_type": "execute_result",
     "data": {
      "text/plain": [
       "                        City Country  Max Temp    Lat     Lng  \\\n",
       "1            Arraial Do Cabo      BR     70.23 -22.97  -42.03   \n",
       "5                     Avarua      CK     78.80 -21.21 -159.78   \n",
       "12                     Adrar      MR     87.82  20.50  -10.07   \n",
       "15                  Bengkulu      ID     76.12  -3.80  102.27   \n",
       "18            Saint-Philippe      RE     71.60 -21.36   55.77   \n",
       "..                       ...     ...       ...    ...     ...   \n",
       "528                 Frontera      MX     75.00  26.93 -101.45   \n",
       "531                 Tessalit      ML     84.49  20.20    1.01   \n",
       "532          Lazaro Cardenas      MX     83.34  17.96 -102.20   \n",
       "536  Puerto Baquerizo Moreno      EC     70.09  -0.90  -89.60   \n",
       "538                  Rosetta      EG     73.40  31.40   30.42   \n",
       "\n",
       "                            Hotel Name  \n",
       "1                  Pousada Porto Praia  \n",
       "5                         Paradise Inn  \n",
       "12                                      \n",
       "15                Grage Hotel Bengkulu  \n",
       "18        Chambres d'hôte \"La Trinité\"  \n",
       "..                                 ...  \n",
       "528                Fiesta Inn Monclova  \n",
       "531                                     \n",
       "532  Collection O Hotel Quinta Antigua  \n",
       "536               Hotel los Algarrobos  \n",
       "538                       Green Valley  \n",
       "\n",
       "[206 rows x 6 columns]"
      ],
      "text/html": "<div>\n<style scoped>\n    .dataframe tbody tr th:only-of-type {\n        vertical-align: middle;\n    }\n\n    .dataframe tbody tr th {\n        vertical-align: top;\n    }\n\n    .dataframe thead th {\n        text-align: right;\n    }\n</style>\n<table border=\"1\" class=\"dataframe\">\n  <thead>\n    <tr style=\"text-align: right;\">\n      <th></th>\n      <th>City</th>\n      <th>Country</th>\n      <th>Max Temp</th>\n      <th>Lat</th>\n      <th>Lng</th>\n      <th>Hotel Name</th>\n    </tr>\n  </thead>\n  <tbody>\n    <tr>\n      <th>1</th>\n      <td>Arraial Do Cabo</td>\n      <td>BR</td>\n      <td>70.23</td>\n      <td>-22.97</td>\n      <td>-42.03</td>\n      <td>Pousada Porto Praia</td>\n    </tr>\n    <tr>\n      <th>5</th>\n      <td>Avarua</td>\n      <td>CK</td>\n      <td>78.80</td>\n      <td>-21.21</td>\n      <td>-159.78</td>\n      <td>Paradise Inn</td>\n    </tr>\n    <tr>\n      <th>12</th>\n      <td>Adrar</td>\n      <td>MR</td>\n      <td>87.82</td>\n      <td>20.50</td>\n      <td>-10.07</td>\n      <td></td>\n    </tr>\n    <tr>\n      <th>15</th>\n      <td>Bengkulu</td>\n      <td>ID</td>\n      <td>76.12</td>\n      <td>-3.80</td>\n      <td>102.27</td>\n      <td>Grage Hotel Bengkulu</td>\n    </tr>\n    <tr>\n      <th>18</th>\n      <td>Saint-Philippe</td>\n      <td>RE</td>\n      <td>71.60</td>\n      <td>-21.36</td>\n      <td>55.77</td>\n      <td>Chambres d'hôte \"La Trinité\"</td>\n    </tr>\n    <tr>\n      <th>...</th>\n      <td>...</td>\n      <td>...</td>\n      <td>...</td>\n      <td>...</td>\n      <td>...</td>\n      <td>...</td>\n    </tr>\n    <tr>\n      <th>528</th>\n      <td>Frontera</td>\n      <td>MX</td>\n      <td>75.00</td>\n      <td>26.93</td>\n      <td>-101.45</td>\n      <td>Fiesta Inn Monclova</td>\n    </tr>\n    <tr>\n      <th>531</th>\n      <td>Tessalit</td>\n      <td>ML</td>\n      <td>84.49</td>\n      <td>20.20</td>\n      <td>1.01</td>\n      <td></td>\n    </tr>\n    <tr>\n      <th>532</th>\n      <td>Lazaro Cardenas</td>\n      <td>MX</td>\n      <td>83.34</td>\n      <td>17.96</td>\n      <td>-102.20</td>\n      <td>Collection O Hotel Quinta Antigua</td>\n    </tr>\n    <tr>\n      <th>536</th>\n      <td>Puerto Baquerizo Moreno</td>\n      <td>EC</td>\n      <td>70.09</td>\n      <td>-0.90</td>\n      <td>-89.60</td>\n      <td>Hotel los Algarrobos</td>\n    </tr>\n    <tr>\n      <th>538</th>\n      <td>Rosetta</td>\n      <td>EG</td>\n      <td>73.40</td>\n      <td>31.40</td>\n      <td>30.42</td>\n      <td>Green Valley</td>\n    </tr>\n  </tbody>\n</table>\n<p>206 rows × 6 columns</p>\n</div>"
     },
     "metadata": {},
     "execution_count": 19
    }
   ],
   "source": [
    "hotel_df"
   ]
  },
  {
   "cell_type": "code",
   "execution_count": 20,
   "metadata": {},
   "outputs": [
    {
     "output_type": "display_data",
     "data": {
      "text/plain": "Figure(layout=FigureLayout(height='420px'))",
      "application/vnd.jupyter.widget-view+json": {
       "version_major": 2,
       "version_minor": 0,
       "model_id": "360c3ef4f0f341dfa605dad6cba70446"
      }
     },
     "metadata": {}
    }
   ],
   "source": [
    "# Add a heatmap of temperature for the vacation spots.\n",
    "locations = hotel_df[[\"Lat\", \"Lng\"]]\n",
    "max_temp = hotel_df[\"Max Temp\"]\n",
    "fig = gmaps.figure(center=(30.0, 31.0), zoom_level=1.5)\n",
    "heat_layer = gmaps.heatmap_layer(locations, weights=max_temp, dissipating=False,\n",
    "             max_intensity=300, point_radius=4)\n",
    "\n",
    "fig.add_layer(heat_layer)\n",
    "\n",
    "# Call the figure to plot the data.\n",
    "fig\n"
   ]
  },
  {
   "cell_type": "code",
   "execution_count": 21,
   "metadata": {},
   "outputs": [
    {
     "output_type": "display_data",
     "data": {
      "text/plain": "Figure(layout=FigureLayout(height='420px'))",
      "application/vnd.jupyter.widget-view+json": {
       "version_major": 2,
       "version_minor": 0,
       "model_id": "25ce7a4e57bf4552b3db1dc1ebc2284b"
      }
     },
     "metadata": {}
    }
   ],
   "source": [
    "# Add a heatmap of temperature for the vacation spots and marker for each city.\n",
    "locations = hotel_df[[\"Lat\", \"Lng\"]]\n",
    "max_temp = hotel_df[\"Max Temp\"]\n",
    "fig = gmaps.figure(center=(30.0, 31.0), zoom_level=1.5)\n",
    "heat_layer = gmaps.heatmap_layer(locations, weights=max_temp,\n",
    "             dissipating=False, max_intensity=300, point_radius=4)\n",
    "marker_layer = gmaps.marker_layer(locations)\n",
    "fig.add_layer(heat_layer)\n",
    "fig.add_layer(marker_layer)\n",
    "# Call the figure to plot the data.\n",
    "fig"
   ]
  },
  {
   "cell_type": "code",
   "execution_count": 22,
   "metadata": {},
   "outputs": [],
   "source": [
    "info_box_template = \"\"\"\n",
    "<dl>\n",
    "<dt>Hotel Name</dt><dd>{Hotel Name}</dd>\n",
    "<dt>City</dt><dd>{City}</dd>\n",
    "<dt>Country</dt><dd>{Country}</dd>\n",
    "<dt>Max Temp</dt><dd>{Max Temp} °F</dd>\n",
    "</dl>\n",
    "\"\"\"\n",
    "\n",
    "# Store the DataFrame Row.\n",
    "hotel_info = [info_box_template.format(**row) for index, row in hotel_df.iterrows()]\n"
   ]
  },
  {
   "cell_type": "code",
   "execution_count": 23,
   "metadata": {},
   "outputs": [
    {
     "output_type": "display_data",
     "data": {
      "text/plain": "Figure(layout=FigureLayout(height='420px'))",
      "application/vnd.jupyter.widget-view+json": {
       "version_major": 2,
       "version_minor": 0,
       "model_id": "11e7fc801b0144f58acbe4a97727f6fa"
      }
     },
     "metadata": {}
    }
   ],
   "source": [
    "# Add a heatmap of temperature for the vacation spots and marker for each city.\n",
    "locations = hotel_df[[\"Lat\", \"Lng\"]]\n",
    "max_temp = hotel_df[\"Max Temp\"]\n",
    "fig = gmaps.figure(center=(30.0, 31.0), zoom_level=1.5)\n",
    "heat_layer = gmaps.heatmap_layer(locations, weights=max_temp,\n",
    "             dissipating=False, max_intensity=300, point_radius=4)\n",
    "marker_layer = gmaps.marker_layer(locations, info_box_content=hotel_info)\n",
    "fig.add_layer(heat_layer)\n",
    "fig.add_layer(marker_layer)\n",
    "# Call the figure to plot the data.\n",
    "fig"
   ]
  },
  {
   "cell_type": "code",
   "execution_count": null,
   "metadata": {},
   "outputs": [],
   "source": []
  }
 ]
}