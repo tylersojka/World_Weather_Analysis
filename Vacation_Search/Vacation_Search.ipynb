{
 "cells": [
  {
   "cell_type": "markdown",
   "metadata": {},
   "source": [
    "## Deliverable 2. Create a Customer Travel Destinations Map."
   ]
  },
  {
   "cell_type": "code",
   "execution_count": 2,
   "metadata": {},
   "outputs": [],
   "source": [
    "import sys\n",
    "sys.path.append(\"..\")\n",
    "# Dependencies and Setup\n",
    "import pandas as pd\n",
    "import requests\n",
    "import gmaps\n",
    "import os\n",
    "import numpy as np\n",
    "# Import API key\n",
    "from config import g_key\n",
    "\n",
    "# Configure gmaps API key\n",
    "gmaps.configure(api_key=g_key)"
   ]
  },
  {
   "cell_type": "code",
   "execution_count": 3,
   "metadata": {},
   "outputs": [
    {
     "output_type": "execute_result",
     "data": {
      "text/plain": [
       "   City_ID             City Country    Lat     Lng  Max Temp  Humidity  \\\n",
       "0        0             Hilo      US  19.73 -155.09     87.80        55   \n",
       "1        1  Arraial Do Cabo      BR -22.97  -42.03     70.12        73   \n",
       "2        2             Hovd      MN  48.01   91.64     32.04        79   \n",
       "3        3          Salalah      OM  17.02   54.09     73.40        56   \n",
       "4        4           Barrow      US  71.29 -156.79     17.60        72   \n",
       "\n",
       "   Cloudiness  Wind Speed Current Description  \n",
       "0          40       14.99    scattered clouds  \n",
       "1          70        9.08       broken clouds  \n",
       "2           0        2.71           clear sky  \n",
       "3           0        3.36           clear sky  \n",
       "4           1       26.40           clear sky  "
      ],
      "text/html": "<div>\n<style scoped>\n    .dataframe tbody tr th:only-of-type {\n        vertical-align: middle;\n    }\n\n    .dataframe tbody tr th {\n        vertical-align: top;\n    }\n\n    .dataframe thead th {\n        text-align: right;\n    }\n</style>\n<table border=\"1\" class=\"dataframe\">\n  <thead>\n    <tr style=\"text-align: right;\">\n      <th></th>\n      <th>City_ID</th>\n      <th>City</th>\n      <th>Country</th>\n      <th>Lat</th>\n      <th>Lng</th>\n      <th>Max Temp</th>\n      <th>Humidity</th>\n      <th>Cloudiness</th>\n      <th>Wind Speed</th>\n      <th>Current Description</th>\n    </tr>\n  </thead>\n  <tbody>\n    <tr>\n      <th>0</th>\n      <td>0</td>\n      <td>Hilo</td>\n      <td>US</td>\n      <td>19.73</td>\n      <td>-155.09</td>\n      <td>87.80</td>\n      <td>55</td>\n      <td>40</td>\n      <td>14.99</td>\n      <td>scattered clouds</td>\n    </tr>\n    <tr>\n      <th>1</th>\n      <td>1</td>\n      <td>Arraial Do Cabo</td>\n      <td>BR</td>\n      <td>-22.97</td>\n      <td>-42.03</td>\n      <td>70.12</td>\n      <td>73</td>\n      <td>70</td>\n      <td>9.08</td>\n      <td>broken clouds</td>\n    </tr>\n    <tr>\n      <th>2</th>\n      <td>2</td>\n      <td>Hovd</td>\n      <td>MN</td>\n      <td>48.01</td>\n      <td>91.64</td>\n      <td>32.04</td>\n      <td>79</td>\n      <td>0</td>\n      <td>2.71</td>\n      <td>clear sky</td>\n    </tr>\n    <tr>\n      <th>3</th>\n      <td>3</td>\n      <td>Salalah</td>\n      <td>OM</td>\n      <td>17.02</td>\n      <td>54.09</td>\n      <td>73.40</td>\n      <td>56</td>\n      <td>0</td>\n      <td>3.36</td>\n      <td>clear sky</td>\n    </tr>\n    <tr>\n      <th>4</th>\n      <td>4</td>\n      <td>Barrow</td>\n      <td>US</td>\n      <td>71.29</td>\n      <td>-156.79</td>\n      <td>17.60</td>\n      <td>72</td>\n      <td>1</td>\n      <td>26.40</td>\n      <td>clear sky</td>\n    </tr>\n  </tbody>\n</table>\n</div>"
     },
     "metadata": {},
     "execution_count": 3
    }
   ],
   "source": [
    "# 1. Import the WeatherPy_database.csv file. \n",
    "\n",
    "city_data_df = pd.read_csv(\"../Weather_Database/WheatherPy_database.csv\")\n",
    "city_data_df.head()"
   ]
  },
  {
   "cell_type": "code",
   "execution_count": 4,
   "metadata": {},
   "outputs": [],
   "source": [
    "# 2. Prompt the user to enter minimum and maximum temperature criteria \n",
    "user_high = int(input(\"What is the maximum temperature you would enjoy?\"))\n",
    "user_low = int(input(\"What is the lowest temperature you would enjoy?\"))"
   ]
  },
  {
   "cell_type": "code",
   "execution_count": 5,
   "metadata": {},
   "outputs": [
    {
     "output_type": "execute_result",
     "data": {
      "text/plain": [
       "     City_ID                  City Country    Lat     Lng  Max Temp  Humidity  \\\n",
       "0          0                  Hilo      US  19.73 -155.09     87.80        55   \n",
       "5          5             Mount Isa      AU -20.73  139.50     87.80        16   \n",
       "11        11               Sawakin      SD  19.11   37.33     80.46        70   \n",
       "19        19                 Ipora      BR -16.44  -51.12     75.54        70   \n",
       "28        28              Manicore      BR  -5.81  -61.30     77.72        77   \n",
       "..       ...                   ...     ...    ...     ...       ...       ...   \n",
       "659      659           Kloulklubed      PW   7.04  134.26     84.20        79   \n",
       "662      662              Qui Nhon      VN  13.77  109.23     77.18        91   \n",
       "663      663        Ciudad Bolivar      VE   8.12  -63.55     84.22        60   \n",
       "664      664  Nova Olinda Do Norte      BR  -3.89  -59.09     81.46        63   \n",
       "666      666             Katherine      AU -14.47  132.27     86.00        55   \n",
       "\n",
       "     Cloudiness  Wind Speed Current Description  \n",
       "0            40       14.99    scattered clouds  \n",
       "5             0       11.41           clear sky  \n",
       "11            0        4.52           clear sky  \n",
       "19           32        7.45    scattered clouds  \n",
       "28           44        1.59    scattered clouds  \n",
       "..          ...         ...                 ...  \n",
       "659          75        4.70       broken clouds  \n",
       "662         100        8.57          light rain  \n",
       "663          57        3.78       broken clouds  \n",
       "664          30        1.74    scattered clouds  \n",
       "666          45        8.05    scattered clouds  \n",
       "\n",
       "[193 rows x 10 columns]"
      ],
      "text/html": "<div>\n<style scoped>\n    .dataframe tbody tr th:only-of-type {\n        vertical-align: middle;\n    }\n\n    .dataframe tbody tr th {\n        vertical-align: top;\n    }\n\n    .dataframe thead th {\n        text-align: right;\n    }\n</style>\n<table border=\"1\" class=\"dataframe\">\n  <thead>\n    <tr style=\"text-align: right;\">\n      <th></th>\n      <th>City_ID</th>\n      <th>City</th>\n      <th>Country</th>\n      <th>Lat</th>\n      <th>Lng</th>\n      <th>Max Temp</th>\n      <th>Humidity</th>\n      <th>Cloudiness</th>\n      <th>Wind Speed</th>\n      <th>Current Description</th>\n    </tr>\n  </thead>\n  <tbody>\n    <tr>\n      <th>0</th>\n      <td>0</td>\n      <td>Hilo</td>\n      <td>US</td>\n      <td>19.73</td>\n      <td>-155.09</td>\n      <td>87.80</td>\n      <td>55</td>\n      <td>40</td>\n      <td>14.99</td>\n      <td>scattered clouds</td>\n    </tr>\n    <tr>\n      <th>5</th>\n      <td>5</td>\n      <td>Mount Isa</td>\n      <td>AU</td>\n      <td>-20.73</td>\n      <td>139.50</td>\n      <td>87.80</td>\n      <td>16</td>\n      <td>0</td>\n      <td>11.41</td>\n      <td>clear sky</td>\n    </tr>\n    <tr>\n      <th>11</th>\n      <td>11</td>\n      <td>Sawakin</td>\n      <td>SD</td>\n      <td>19.11</td>\n      <td>37.33</td>\n      <td>80.46</td>\n      <td>70</td>\n      <td>0</td>\n      <td>4.52</td>\n      <td>clear sky</td>\n    </tr>\n    <tr>\n      <th>19</th>\n      <td>19</td>\n      <td>Ipora</td>\n      <td>BR</td>\n      <td>-16.44</td>\n      <td>-51.12</td>\n      <td>75.54</td>\n      <td>70</td>\n      <td>32</td>\n      <td>7.45</td>\n      <td>scattered clouds</td>\n    </tr>\n    <tr>\n      <th>28</th>\n      <td>28</td>\n      <td>Manicore</td>\n      <td>BR</td>\n      <td>-5.81</td>\n      <td>-61.30</td>\n      <td>77.72</td>\n      <td>77</td>\n      <td>44</td>\n      <td>1.59</td>\n      <td>scattered clouds</td>\n    </tr>\n    <tr>\n      <th>...</th>\n      <td>...</td>\n      <td>...</td>\n      <td>...</td>\n      <td>...</td>\n      <td>...</td>\n      <td>...</td>\n      <td>...</td>\n      <td>...</td>\n      <td>...</td>\n      <td>...</td>\n    </tr>\n    <tr>\n      <th>659</th>\n      <td>659</td>\n      <td>Kloulklubed</td>\n      <td>PW</td>\n      <td>7.04</td>\n      <td>134.26</td>\n      <td>84.20</td>\n      <td>79</td>\n      <td>75</td>\n      <td>4.70</td>\n      <td>broken clouds</td>\n    </tr>\n    <tr>\n      <th>662</th>\n      <td>662</td>\n      <td>Qui Nhon</td>\n      <td>VN</td>\n      <td>13.77</td>\n      <td>109.23</td>\n      <td>77.18</td>\n      <td>91</td>\n      <td>100</td>\n      <td>8.57</td>\n      <td>light rain</td>\n    </tr>\n    <tr>\n      <th>663</th>\n      <td>663</td>\n      <td>Ciudad Bolivar</td>\n      <td>VE</td>\n      <td>8.12</td>\n      <td>-63.55</td>\n      <td>84.22</td>\n      <td>60</td>\n      <td>57</td>\n      <td>3.78</td>\n      <td>broken clouds</td>\n    </tr>\n    <tr>\n      <th>664</th>\n      <td>664</td>\n      <td>Nova Olinda Do Norte</td>\n      <td>BR</td>\n      <td>-3.89</td>\n      <td>-59.09</td>\n      <td>81.46</td>\n      <td>63</td>\n      <td>30</td>\n      <td>1.74</td>\n      <td>scattered clouds</td>\n    </tr>\n    <tr>\n      <th>666</th>\n      <td>666</td>\n      <td>Katherine</td>\n      <td>AU</td>\n      <td>-14.47</td>\n      <td>132.27</td>\n      <td>86.00</td>\n      <td>55</td>\n      <td>45</td>\n      <td>8.05</td>\n      <td>scattered clouds</td>\n    </tr>\n  </tbody>\n</table>\n<p>193 rows × 10 columns</p>\n</div>"
     },
     "metadata": {},
     "execution_count": 5
    }
   ],
   "source": [
    "# 3. Filter the city_data_df DataFrame using the input statements to create a new DataFrame using the loc method.\n",
    "user_df = city_data_df.loc[(city_data_df[\"Max Temp\"] >= user_low) & (city_data_df[\"Max Temp\"] <= user_high)]\n",
    "user_df"
   ]
  },
  {
   "cell_type": "code",
   "execution_count": 6,
   "metadata": {},
   "outputs": [
    {
     "output_type": "stream",
     "name": "stdout",
     "text": [
      "City_ID                0\nCity                   0\nCountry                0\nLat                    0\nLng                    0\nMax Temp               0\nHumidity               0\nCloudiness             0\nWind Speed             0\nCurrent Description    0\ndtype: int64\nCity_ID                193\nCity                   193\nCountry                193\nLat                    193\nLng                    193\nMax Temp               193\nHumidity               193\nCloudiness             193\nWind Speed             193\nCurrent Description    193\ndtype: int64\n"
     ]
    },
    {
     "output_type": "execute_result",
     "data": {
      "text/plain": [
       "193"
      ]
     },
     "metadata": {},
     "execution_count": 6
    }
   ],
   "source": [
    "# 4a. Determine if there are any empty rows.\n",
    "print(user_df.isnull().sum())\n",
    "print(user_df.count())\n",
    "len(user_df)"
   ]
  },
  {
   "cell_type": "code",
   "execution_count": 7,
   "metadata": {},
   "outputs": [
    {
     "output_type": "execute_result",
     "data": {
      "text/plain": [
       "193"
      ]
     },
     "metadata": {},
     "execution_count": 7
    }
   ],
   "source": [
    "# 4b. Drop any empty rows and create a new DataFrame that doesn’t have empty rows.\n",
    "clean_df = user_df.dropna()\n",
    "len(clean_df)"
   ]
  },
  {
   "cell_type": "code",
   "execution_count": 8,
   "metadata": {},
   "outputs": [
    {
     "output_type": "execute_result",
     "data": {
      "text/plain": [
       "         City Country  Max Temp Current Description    Lat     Lng Hotel Name\n",
       "0        Hilo      US     87.80    scattered clouds  19.73 -155.09           \n",
       "5   Mount Isa      AU     87.80           clear sky -20.73  139.50           \n",
       "11    Sawakin      SD     80.46           clear sky  19.11   37.33           \n",
       "19      Ipora      BR     75.54    scattered clouds -16.44  -51.12           \n",
       "28   Manicore      BR     77.72    scattered clouds  -5.81  -61.30           \n",
       "29   Kalmunai      LK     75.72       broken clouds   7.42   81.82           \n",
       "31     Avarua      CK     77.00    scattered clouds -21.21 -159.78           \n",
       "32     Atuona      PF     78.49           clear sky  -9.80 -139.03           \n",
       "37   Almeirim      BR     84.65    scattered clouds  -1.52  -52.58           \n",
       "38       Luba      GQ     77.00          few clouds   3.46    8.55           "
      ],
      "text/html": "<div>\n<style scoped>\n    .dataframe tbody tr th:only-of-type {\n        vertical-align: middle;\n    }\n\n    .dataframe tbody tr th {\n        vertical-align: top;\n    }\n\n    .dataframe thead th {\n        text-align: right;\n    }\n</style>\n<table border=\"1\" class=\"dataframe\">\n  <thead>\n    <tr style=\"text-align: right;\">\n      <th></th>\n      <th>City</th>\n      <th>Country</th>\n      <th>Max Temp</th>\n      <th>Current Description</th>\n      <th>Lat</th>\n      <th>Lng</th>\n      <th>Hotel Name</th>\n    </tr>\n  </thead>\n  <tbody>\n    <tr>\n      <th>0</th>\n      <td>Hilo</td>\n      <td>US</td>\n      <td>87.80</td>\n      <td>scattered clouds</td>\n      <td>19.73</td>\n      <td>-155.09</td>\n      <td></td>\n    </tr>\n    <tr>\n      <th>5</th>\n      <td>Mount Isa</td>\n      <td>AU</td>\n      <td>87.80</td>\n      <td>clear sky</td>\n      <td>-20.73</td>\n      <td>139.50</td>\n      <td></td>\n    </tr>\n    <tr>\n      <th>11</th>\n      <td>Sawakin</td>\n      <td>SD</td>\n      <td>80.46</td>\n      <td>clear sky</td>\n      <td>19.11</td>\n      <td>37.33</td>\n      <td></td>\n    </tr>\n    <tr>\n      <th>19</th>\n      <td>Ipora</td>\n      <td>BR</td>\n      <td>75.54</td>\n      <td>scattered clouds</td>\n      <td>-16.44</td>\n      <td>-51.12</td>\n      <td></td>\n    </tr>\n    <tr>\n      <th>28</th>\n      <td>Manicore</td>\n      <td>BR</td>\n      <td>77.72</td>\n      <td>scattered clouds</td>\n      <td>-5.81</td>\n      <td>-61.30</td>\n      <td></td>\n    </tr>\n    <tr>\n      <th>29</th>\n      <td>Kalmunai</td>\n      <td>LK</td>\n      <td>75.72</td>\n      <td>broken clouds</td>\n      <td>7.42</td>\n      <td>81.82</td>\n      <td></td>\n    </tr>\n    <tr>\n      <th>31</th>\n      <td>Avarua</td>\n      <td>CK</td>\n      <td>77.00</td>\n      <td>scattered clouds</td>\n      <td>-21.21</td>\n      <td>-159.78</td>\n      <td></td>\n    </tr>\n    <tr>\n      <th>32</th>\n      <td>Atuona</td>\n      <td>PF</td>\n      <td>78.49</td>\n      <td>clear sky</td>\n      <td>-9.80</td>\n      <td>-139.03</td>\n      <td></td>\n    </tr>\n    <tr>\n      <th>37</th>\n      <td>Almeirim</td>\n      <td>BR</td>\n      <td>84.65</td>\n      <td>scattered clouds</td>\n      <td>-1.52</td>\n      <td>-52.58</td>\n      <td></td>\n    </tr>\n    <tr>\n      <th>38</th>\n      <td>Luba</td>\n      <td>GQ</td>\n      <td>77.00</td>\n      <td>few clouds</td>\n      <td>3.46</td>\n      <td>8.55</td>\n      <td></td>\n    </tr>\n  </tbody>\n</table>\n</div>"
     },
     "metadata": {},
     "execution_count": 8
    }
   ],
   "source": [
    "# 5a. Create DataFrame called hotel_df to store hotel names along with city, country, max temp, and coordinates.\n",
    "hotel_df = clean_df[[\"City\", \"Country\", \"Max Temp\", \"Current Description\", \"Lat\", \"Lng\"]].copy()\n",
    "\n",
    "# 5b. Create a new column \"Hotel Name\"\n",
    "hotel_df[\"Hotel Name\"] = \"\"\n",
    "hotel_df.head(10)"
   ]
  },
  {
   "cell_type": "code",
   "execution_count": 9,
   "metadata": {},
   "outputs": [
    {
     "output_type": "stream",
     "name": "stdout",
     "text": [
      "Hotel not found... skipping.\n",
      "Hotel not found... skipping.\n",
      "Hotel not found... skipping.\n",
      "Hotel not found... skipping.\n",
      "Hotel not found... skipping.\n",
      "Hotel not found... skipping.\n",
      "Hotel not found... skipping.\n",
      "Hotel not found... skipping.\n",
      "Hotel not found... skipping.\n",
      "Hotel not found... skipping.\n"
     ]
    }
   ],
   "source": [
    "# 6a. Set parameters to search for hotels with 5000 meters.\n",
    "params = {\n",
    "    \"radius\": 5000,\n",
    "    \"type\": \"lodging\",\n",
    "    \"key\": g_key\n",
    "}\n",
    "\n",
    "# 6b. Iterate through the hotel DataFrame.\n",
    "for index, row in hotel_df.iterrows():\n",
    "    # 6c. Get latitude and longitude from DataFrame\n",
    "    lat = row[\"Lat\"]\n",
    "    lng = row[\"Lng\"]\n",
    "    params[\"location\"] = f\"{lat},{lng}\"\n",
    "    # 6d. Set up the base URL for the Google Directions API to get JSON data.\n",
    "    base_url = \"https://maps.googleapis.com/maps/api/place/nearbysearch/json\"\n",
    "\n",
    "    # 6e. Make request and retrieve the JSON data from the search. \n",
    "    hotels = requests.get(base_url, params=params).json()\n",
    "    \n",
    "    # 6f. Get the first hotel from the results and store the name, if a hotel isn't found skip the city.\n",
    "    \n",
    "    try:\n",
    "        hotel_df.loc[index, \"Hotel Name\"] = hotels[\"results\"][0][\"name\"]\n",
    "    except (IndexError):\n",
    "        #hotel_df.loc[index, \"Hotel Name\"] = np.nan\n",
    "        print(\"Hotel not found... skipping.\")    "
   ]
  },
  {
   "cell_type": "code",
   "execution_count": 10,
   "metadata": {},
   "outputs": [
    {
     "output_type": "stream",
     "name": "stdout",
     "text": [
      "City                   0\nCountry                0\nMax Temp               0\nCurrent Description    0\nLat                    0\nLng                    0\nHotel Name             0\ndtype: int64\n193\nCity                   0\nCountry                0\nMax Temp               0\nCurrent Description    0\nLat                    0\nLng                    0\nHotel Name             0\ndtype: int64\n193\n"
     ]
    }
   ],
   "source": [
    "# 7. Drop the rows where there is no Hotel Name.\n",
    "print(hotel_df.isnull().sum())\n",
    "print(len(hotel_df))\n",
    "clean_hotel_df = hotel_df.dropna()\n",
    "print(clean_hotel_df.isnull().sum())\n",
    "print(len(clean_hotel_df))"
   ]
  },
  {
   "cell_type": "code",
   "execution_count": 13,
   "metadata": {},
   "outputs": [],
   "source": [
    "# 8a. Create the output File (CSV)\n",
    "output_data_file = \"WeatherPy_vacation.csv\"\n",
    "# 8b. Export the City_Data into a csv\n",
    "clean_hotel_df.to_csv(output_data_file, index_label=\"City_ID\")"
   ]
  },
  {
   "cell_type": "code",
   "execution_count": 32,
   "metadata": {},
   "outputs": [],
   "source": [
    "# 9. Using the template add city name, the country code, the weather description and maximum temperature for the city.\n",
    "info_box_template = \"\"\"\n",
    "\n",
    "\n",
    "<dl>\n",
    "<dt><b>Hotel Name</b></dt>{Hotel Name}\n",
    "<dt><b>City</b></dt>{City}\n",
    "<dt><b>Country</b></dt>{Country}\n",
    "<dt><b>Current Weather</b></dt>{Current Description}\n",
    "</dl>\n",
    "\"\"\"\n",
    "# 10a. Get the data from each row and add it to the formatting template and store the data in a list.\n",
    "hotel_info = [info_box_template.format(**row) for index, row in clean_hotel_df.iterrows()]\n",
    "# 10b. Get the latitude and longitude from each row and store in a new DataFrame.\n",
    "locations = clean_hotel_df[[\"Lat\", \"Lng\"]]"
   ]
  },
  {
   "cell_type": "code",
   "execution_count": 33,
   "metadata": {},
   "outputs": [
    {
     "output_type": "display_data",
     "data": {
      "text/plain": "Figure(layout=FigureLayout(height='420px'))",
      "application/vnd.jupyter.widget-view+json": {
       "version_major": 2,
       "version_minor": 0,
       "model_id": "84d2f01a005b4ebba09e94ad9f0165f2"
      }
     },
     "metadata": {}
    }
   ],
   "source": [
    "# 11a. Add a marker layer for each city to the map. \n",
    "locations = locations\n",
    "fig = gmaps.figure(center=(10.0, 30.0), zoom_level=1.8)\n",
    "marker_layer = gmaps.marker_layer(locations, info_box_content=hotel_info)\n",
    "fig.add_layer(marker_layer)\n",
    "# 11b. Display the figure\n",
    "fig"
   ]
  },
  {
   "cell_type": "code",
   "execution_count": null,
   "metadata": {},
   "outputs": [],
   "source": []
  },
  {
   "cell_type": "code",
   "execution_count": null,
   "metadata": {},
   "outputs": [],
   "source": []
  }
 ],
 "metadata": {
  "kernelspec": {
   "name": "Python 3.7.7 64-bit ('PythonData': conda)",
   "display_name": "Python 3.7.7 64-bit ('PythonData': conda)",
   "metadata": {
    "interpreter": {
     "hash": "06947af63d400d5f429eac8148c2b13ff3a8ebfdac4eae92c530c5968c51227e"
    }
   }
  },
  "language_info": {
   "codemirror_mode": {
    "name": "ipython",
    "version": 3
   },
   "file_extension": ".py",
   "mimetype": "text/x-python",
   "name": "python",
   "nbconvert_exporter": "python",
   "pygments_lexer": "ipython3",
   "version": "3.7.7-final"
  },
  "latex_envs": {
   "LaTeX_envs_menu_present": true,
   "autoclose": false,
   "autocomplete": true,
   "bibliofile": "biblio.bib",
   "cite_by": "apalike",
   "current_citInitial": 1,
   "eqLabelWithNumbers": true,
   "eqNumInitial": 1,
   "hotkeys": {
    "equation": "Ctrl-E",
    "itemize": "Ctrl-I"
   },
   "labels_anchors": false,
   "latex_user_defs": false,
   "report_style_numbering": false,
   "user_envs_cfg": false
  }
 },
 "nbformat": 4,
 "nbformat_minor": 2
}